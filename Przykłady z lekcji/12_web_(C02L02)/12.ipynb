{
 "cells": [
  {
   "cell_type": "code",
   "execution_count": 3,
   "metadata": {},
   "outputs": [],
   "source": [
    "import json\n",
    "import re\n",
    "from requests_html import HTMLSession\n",
    "import html2text"
   ]
  },
  {
   "cell_type": "code",
   "execution_count": 4,
   "metadata": {},
   "outputs": [],
   "source": [
    "# załadowanie treści strony\n",
    "def load_web_content(url, selector):\n",
    "    session = HTMLSession()\n",
    "    response = session.get(url)\n",
    "    element = response.html.find(selector, first=True)\n",
    "    if element:\n",
    "        html_content = element.html\n",
    "        markdown_content = html2text.html2text(html_content)\n",
    "        return [{\"page_content\": markdown_content, \"metadata\": {}}]\n",
    "    else:\n",
    "        return []"
   ]
  },
  {
   "cell_type": "code",
   "execution_count": 5,
   "metadata": {},
   "outputs": [],
   "source": [
    "# zastąpienie linków placeholderami i zapisanie ich rozwinięć w metadanych\n",
    "def replace_urls(doc):\n",
    "    url_to_placeholder = {}\n",
    "\n",
    "    def replace_url(match):\n",
    "        url = match.group(0)\n",
    "        if url not in url_to_placeholder:\n",
    "            placeholder = f\"${len(url_to_placeholder) + 1}\"\n",
    "            url_to_placeholder[url] = placeholder\n",
    "            doc[\"metadata\"][placeholder] = url\n",
    "        return url_to_placeholder[url]\n",
    "\n",
    "    doc[\"page_content\"] = re.sub(r\"((http|https):\\/\\/[^\\s]+|\\.\\/[^\\s]+)(?=\\))\", replace_url, doc[\"page_content\"])"
   ]
  },
  {
   "cell_type": "code",
   "execution_count": 6,
   "metadata": {},
   "outputs": [],
   "source": [
    "url = \"https://brain.overment.com\"\n",
    "selector = \".main\"\n",
    "docs = load_web_content(url, selector)\n",
    "\n",
    "for doc in docs:\n",
    "    replace_urls(doc)\n",
    "\n",
    "with open(\"docs.json\", \"w\") as f:\n",
    "    json.dump(docs, f, indent=2)"
   ]
  },
  {
   "cell_type": "markdown",
   "metadata": {},
   "source": [
    "Jak widać linki w treści zostały zastąpione placeholderami:"
   ]
  },
  {
   "cell_type": "code",
   "execution_count": 13,
   "metadata": {},
   "outputs": [
    {
     "name": "stdout",
     "output_type": "stream",
     "text": [
      "![overment-photo]($1)\n",
      "\n",
      "This is a place where I share everything I know. I created this space mainly\n",
      "for myself. At the same time, I figured you might find it just as valuable.\n",
      "\n",
      "Please remember that this project will never be complete. What's most crucial\n",
      "is that many things will change over time, because **what's true for me today,\n",
      "might not be true tomorrow** — that's my approach to an ever-changing world.\n",
      "\n",
      "## The most important topics: #\n",
      "\n",
      "  * My [Process]($2) which allows me to move in the [Direction]($3) I have set for myself, based on my [Values]($4) and [Knowing thyself](./Core/Knowing thyself.html)\n",
      "  * How I learn based on my [Learning System](./Core/Learning System.html)\n",
      "  * Everything I know about [Mental Models](./Mental Models/Mental Models.html)\n",
      "  * My thoughts about [Books]($5) I read\n",
      "  * A list and my thoughts about [Apps]($6)\n",
      "  * Thoguhts about my [Hardware]($7)\n",
      "  * Perspective and ideas about [Automation]($8)s\n",
      "  * Notes on Programming, Design, Marketing and Business.\n",
      "  * Notes about my [Process]($2)\n",
      "  * My all free and paid publications\n",
      "\n",
      "## Where you can find me? #\n",
      "\n",
      "I like talking to people, so if there's anything you need to tell me or want\n",
      "to share, don't hesitate. If I don't respond, please don't take it personally,\n",
      "but still — I'll do my best.\n",
      "\n",
      "You can find me on [Instagram]($9),\n",
      "[YouTube]($10),\n",
      "[Medium]($11) and\n",
      "[Twitter]($12)\n",
      "\n",
      "Feel free to contact me — adam a^t. [overment.com]($13)\n",
      "\n",
      "\n"
     ]
    }
   ],
   "source": [
    "print(docs[0]['page_content'])"
   ]
  },
  {
   "cell_type": "code",
   "execution_count": null,
   "metadata": {},
   "outputs": [],
   "source": []
  }
 ],
 "metadata": {
  "kernelspec": {
   "display_name": "base",
   "language": "python",
   "name": "python3"
  },
  "language_info": {
   "codemirror_mode": {
    "name": "ipython",
    "version": 3
   },
   "file_extension": ".py",
   "mimetype": "text/x-python",
   "name": "python",
   "nbconvert_exporter": "python",
   "pygments_lexer": "ipython3",
   "version": "3.9.16"
  }
 },
 "nbformat": 4,
 "nbformat_minor": 2
}
