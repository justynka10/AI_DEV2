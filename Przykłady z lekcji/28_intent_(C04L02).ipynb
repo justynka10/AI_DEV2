{
 "cells": [
  {
   "cell_type": "code",
   "execution_count": 1,
   "metadata": {},
   "outputs": [],
   "source": [
    "from dotenv import load_dotenv\n",
    "load_dotenv(override=True)\n",
    "\n",
    "import json\n",
    "\n",
    "from langchain_openai import ChatOpenAI\n",
    "from langchain.schema import HumanMessage, BaseMessage"
   ]
  },
  {
   "cell_type": "code",
   "execution_count": 5,
   "metadata": {},
   "outputs": [],
   "source": [
    "intent_schema = {\n",
    "    \"name\": \"describe_intention\",\n",
    "    \"description\": \"Describe Adam's intention towards Alice, based on his latest message and details from summary of their conversation.\",\n",
    "    \"parameters\": {\n",
    "        \"type\": \"object\",\n",
    "        \"properties\": {\n",
    "            \"type\": {\n",
    "                \"type\": \"string\",\n",
    "                \"description\": \"\"\"\n",
    "                Type has to be set to either: \n",
    "                'query' — when Alice has to speak, write sth, translate, correct, help, simply answer to Adam's question or access her long-term memory or notes. Should be picked by default and for common conversations and chit-chat. \n",
    "                'action' — when Adam asks Alice explicitly to perform an action that she needs to do herself related to Internet connection to the external apps, services, APIs, models (like Wolfram Alpha) finding sth on a website, calculating, giving environment related info (like weather or nearest locations) accessing and reading websites/urls contents, listing tasks, and events and memorizing something by Alice.\n",
    "                \"\"\",\n",
    "            }\n",
    "        }\n",
    "    },\n",
    "    \"required\": [\"name\"]\n",
    "}"
   ]
  },
  {
   "cell_type": "code",
   "execution_count": 6,
   "metadata": {},
   "outputs": [],
   "source": [
    "def parse_function_call(result: BaseMessage):\n",
    "    if result.additional_kwargs and \"function_call\" in result.additional_kwargs:\n",
    "        return {\n",
    "            \"name\": result.additional_kwargs[\"function_call\"][\"name\"],\n",
    "            \"args\": json.loads(result.additional_kwargs[\"function_call\"][\"arguments\"]),\n",
    "        }\n",
    "    return None"
   ]
  },
  {
   "cell_type": "code",
   "execution_count": 7,
   "metadata": {},
   "outputs": [
    {
     "name": "stdout",
     "output_type": "stream",
     "text": [
      "{'name': 'describe_intention', 'args': {'type': 'action'}}\n"
     ]
    }
   ],
   "source": [
    "model = ChatOpenAI(\n",
    "    model = \"gpt-4-0613\",\n",
    ").bind(functions = [intent_schema])\n",
    "\n",
    "result = model.invoke([\n",
    "    HumanMessage(\"Add to my tasks that I need to finish a lesson for AI_Devs course.\"),\n",
    "])\n",
    "\n",
    "action = parse_function_call(result)\n",
    "print(action)"
   ]
  }
 ],
 "metadata": {
  "kernelspec": {
   "display_name": "base",
   "language": "python",
   "name": "python3"
  },
  "language_info": {
   "codemirror_mode": {
    "name": "ipython",
    "version": 3
   },
   "file_extension": ".py",
   "mimetype": "text/x-python",
   "name": "python",
   "nbconvert_exporter": "python",
   "pygments_lexer": "ipython3",
   "version": "3.9.16"
  }
 },
 "nbformat": 4,
 "nbformat_minor": 2
}
