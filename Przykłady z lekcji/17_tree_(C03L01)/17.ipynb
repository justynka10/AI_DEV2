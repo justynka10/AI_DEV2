{
 "cells": [
  {
   "cell_type": "code",
   "execution_count": 2,
   "metadata": {},
   "outputs": [],
   "source": [
    "from dotenv import load_dotenv\n",
    "load_dotenv(override=True)\n",
    "\n",
    "from langchain.schema import HumanMessage, SystemMessage, AIMessage\n",
    "from langchain_openai import ChatOpenAI"
   ]
  },
  {
   "cell_type": "markdown",
   "metadata": {},
   "source": [
    "<b>Tree of Thoughts</b> polega na wygenerowaniu możliwych scenariuszy, pogłębieniu ich, wybraniu najbardziej prawdopodobnych i udzieleniu odpowiedzi. Łatwo zauważyć, że wówczas generowanie odpowiedzi trwa dłużej, jednak według <a href=\"https://arxiv.org/abs/2305.10601\">tej publikacji</a> dla pewnego zestawu zadań, skuteczność modelu wzrosła z 4% (Chain of Thought) do 74%!"
   ]
  },
  {
   "cell_type": "code",
   "execution_count": 3,
   "metadata": {},
   "outputs": [
    {
     "name": "stdout",
     "output_type": "stream",
     "text": [
      "Tekst rozmowy został zapisany w pliku result.md\n"
     ]
    }
   ],
   "source": [
    "chat = ChatOpenAI(\n",
    "    model = \"gpt-4-1106-preview\"\n",
    ")\n",
    "\n",
    "query = \"\"\"I have been working on a desktop app project for macOS for a few months now. At this stage, I have approximately 2000 users of this app and I'm the only developer (can't change atm). This success signals that I may need to invest more resources into this project. Currently, I am the only developer of this app. Moreover, this is not my only project; I have several others, which necessitates careful time management and focus. I am faced with the decision of choosing between two paths:\n",
    "\n",
    "The first is about implementing a redesign, which has already been completed. The goal is to improve the overall brand and, specifically, the app's user experience. I plan to fix UI bugs, enhance performance, and add the most-requested features. This may attract more users to the app.\n",
    "\n",
    "The second option is about extending the backend. This will provide me with much more flexibility when implementing even the most advanced features requested by users, although I cannot guarantee they will actually use them. This path would require a larger time investment initially but would improve the development process in the future.\n",
    "\n",
    "Note: \n",
    "- I'm a full-stack designer and full-stack developer. I have broad experience in product development and all business areas.\n",
    "- I'm a solo founder and I'm not looking for a co-founder or team\n",
    "- I'm familiar with all the concepts and tools so feel free to use them\n",
    "\n",
    "Help me decide which path to take by focusing solely on a business context.\"\"\"\n",
    "\n",
    "conversation = [\n",
    "    SystemMessage(\"Act an expert in mental models, critical thinking, and making complex, strategic decisions. Use markdown syntax to format your responses throughout the conversation.\"),\n",
    "    HumanMessage(f\"{query}. Can you brainstorm three different possible strategies that I could take to effectively create new content and do this consistently while maintaining my energy, life balance, and overall quality of the content I produce?  Please be concise, yet detailed as possible.\"),\n",
    "]\n",
    "\n",
    "def chat_and_log(message):\n",
    "    conversation.append(HumanMessage(message))\n",
    "    content = chat.invoke(conversation).content\n",
    "    conversation.append(AIMessage(content))\n",
    "    return content\n",
    "\n",
    "chat_and_log(\"For each solution, evaluate their potential, pros and cons, effort needed, difficulty, challenges and expected outcomes. Assign success rate and confidence level for each option.\")\n",
    "chat_and_log(\"Extend each solution by deepening the thought process. Generate different scenarios, strategies of implementation that include external resources and how to overcome potential unexpected obstacles.\")\n",
    "chat_and_log(\"For each scenario, generate a list of tasks that need to be done to implement the solution.\")\n",
    "chat_and_log(\"Based on the evaluations and scenarios, rank the solutions in order. Justify each ranking and offer a final solution.\")\n",
    "\n",
    "conversation_text = \"\\n\\n\".join([f\"## {message.type}:\\n\\n{message.content}\" for message in conversation])\n",
    "\n",
    "# Zapis tekstu rozmowy do pliku\n",
    "with open('result.md', 'w') as file:\n",
    "    file.write(conversation_text)\n",
    "\n",
    "print(\"Tekst rozmowy został zapisany w pliku result.md\")"
   ]
  }
 ],
 "metadata": {
  "kernelspec": {
   "display_name": "base",
   "language": "python",
   "name": "python3"
  },
  "language_info": {
   "codemirror_mode": {
    "name": "ipython",
    "version": 3
   },
   "file_extension": ".py",
   "mimetype": "text/x-python",
   "name": "python",
   "nbconvert_exporter": "python",
   "pygments_lexer": "ipython3",
   "version": "3.9.16"
  }
 },
 "nbformat": 4,
 "nbformat_minor": 2
}
