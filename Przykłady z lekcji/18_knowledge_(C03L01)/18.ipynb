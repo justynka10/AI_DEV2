{
 "cells": [
  {
   "cell_type": "code",
   "execution_count": 1,
   "metadata": {},
   "outputs": [],
   "source": [
    "from dotenv import load_dotenv\n",
    "load_dotenv(override=True)\n",
    "\n",
    "from langchain.docstore.document import Document\n",
    "from langchain_community.document_loaders import TextLoader\n",
    "from langchain_openai import ChatOpenAI\n",
    "from langchain.schema import SystemMessage, HumanMessage"
   ]
  },
  {
   "cell_type": "code",
   "execution_count": 2,
   "metadata": {},
   "outputs": [],
   "source": [
    "def search_docs(docs: list[Document], keywords: list[str]) -> list[Document]:\n",
    "    result = []\n",
    "    for doc in docs:\n",
    "        for keyword in keywords:\n",
    "            # Usuń znaki interpunkcyjne\n",
    "            keyword = keyword.replace('.', '').replace(',', '').replace('/', '').replace('!', '').replace('?', '')\n",
    "            if keyword.lower() in doc.page_content.lower() and len(keyword) > 3:\n",
    "                print(f\"Znaleziono: {keyword}\")\n",
    "                result.append(doc)\n",
    "                break\n",
    "    return result"
   ]
  },
  {
   "cell_type": "code",
   "execution_count": 4,
   "metadata": {},
   "outputs": [
    {
     "name": "stdout",
     "output_type": "stream",
     "text": [
      "Znaleziono: easy_\n",
      "Sure! Here is an example of a function that generates a random number within a specified range in Laravel:\n",
      "\n",
      "```php\n",
      "function generateRandomNumber($min, $max) {\n",
      "    return rand($min, $max);\n",
      "}\n",
      "```\n",
      "\n",
      "You can call this function by passing the minimum and maximum values of the range you want to generate a random number within.\n"
     ]
    }
   ],
   "source": [
    "loader = TextLoader('knowledge.md')\n",
    "doc = loader.load()\n",
    "\n",
    "# podział pliku na dokumenty według podwójnego znkau nwoej linii\n",
    "documents = [Document(page_content=content) for content in doc[0].page_content.split(\"\\n\\n\")]\n",
    "\n",
    "query = \"Can you write me a function that will generate random number in range for easy_?\"\n",
    "filtered = search_docs(documents, query.split(' '))\n",
    "filtered_merged = \"\\n\\n\".join([doc.page_content for doc in filtered])\n",
    "\n",
    "chat = ChatOpenAI()\n",
    "content = chat.invoke([\n",
    "    SystemMessage(f\"\"\"Answer questions as truthfully using the context below and nothing more. If you don't know the answer, say \"don't know\". \n",
    "    \n",
    "    context### \n",
    "    {filtered_merged} \n",
    "    ###\"\"\"),\n",
    "    HumanMessage(f\"{query}\"),\n",
    "]).content\n",
    "\n",
    "print(content)"
   ]
  }
 ],
 "metadata": {
  "kernelspec": {
   "display_name": "base",
   "language": "python",
   "name": "python3"
  },
  "language_info": {
   "codemirror_mode": {
    "name": "ipython",
    "version": 3
   },
   "file_extension": ".py",
   "mimetype": "text/x-python",
   "name": "python",
   "nbconvert_exporter": "python",
   "pygments_lexer": "ipython3",
   "version": "3.9.16"
  }
 },
 "nbformat": 4,
 "nbformat_minor": 2
}
