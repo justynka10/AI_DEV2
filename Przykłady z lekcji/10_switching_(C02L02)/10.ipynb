{
 "cells": [
  {
   "cell_type": "code",
   "execution_count": 1,
   "metadata": {},
   "outputs": [],
   "source": [
    "from dotenv import load_dotenv\n",
    "load_dotenv(override=True)\n",
    "\n",
    "from langchain_openai import ChatOpenAI\n",
    "from langchain.schema import SystemMessage"
   ]
  },
  {
   "cell_type": "markdown",
   "metadata": {},
   "source": [
    "Wybór źródła wiedzy na podstawie prompta:"
   ]
  },
  {
   "cell_type": "code",
   "execution_count": 2,
   "metadata": {},
   "outputs": [
    {
     "name": "stdout",
     "output_type": "stream",
     "text": [
      "mateusz.md\n"
     ]
    }
   ],
   "source": [
    "chat = ChatOpenAI()\n",
    "question = \"Czy MC ma psa?\"\n",
    "sources = [\n",
    "    {\"name\": \"Adam (overment)\", \"source\": \"adam.md\"},\n",
    "    {\"name\": \"Jakub (unknown)\", \"source\": \"jakub.md\"},\n",
    "    {\"name\": \"Mateusz (MC)\", \"source\": \"mateusz.md\"},\n",
    "]\n",
    "sources_list = [f\"{s['name']} file:{s['source']}\" for s in sources]\n",
    "sources_str = '\\n'.join(sources_list)\n",
    "\n",
    "source = chat.invoke([\n",
    "    SystemMessage(f\"\"\"Pick one of the following sources related to the query and return filename and nothing else.\n",
    "        Sources###\n",
    "        {sources_str}\n",
    "        ###\n",
    "        Query: {question}\\n\\n\n",
    "        Source file name:\"\"\")\n",
    "])\n",
    "\n",
    "print(source.content)"
   ]
  }
 ],
 "metadata": {
  "kernelspec": {
   "display_name": "base",
   "language": "python",
   "name": "python3"
  },
  "language_info": {
   "codemirror_mode": {
    "name": "ipython",
    "version": 3
   },
   "file_extension": ".py",
   "mimetype": "text/x-python",
   "name": "python",
   "nbconvert_exporter": "python",
   "pygments_lexer": "ipython3",
   "version": "3.9.16"
  }
 },
 "nbformat": 4,
 "nbformat_minor": 2
}
