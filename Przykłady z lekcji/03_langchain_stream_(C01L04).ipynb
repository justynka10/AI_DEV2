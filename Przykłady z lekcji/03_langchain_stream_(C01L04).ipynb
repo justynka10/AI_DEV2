{
 "cells": [
  {
   "cell_type": "code",
   "execution_count": 1,
   "metadata": {},
   "outputs": [],
   "source": [
    "from dotenv import load_dotenv\n",
    "load_dotenv(override=True)\n",
    "from langchain_openai import ChatOpenAI"
   ]
  },
  {
   "cell_type": "code",
   "execution_count": 2,
   "metadata": {},
   "outputs": [
    {
     "name": "stdout",
     "output_type": "stream",
     "text": [
      "|C|ze|ść| Just|yn|ko|!| Jak| się| mas|z|?| C|zy| mog|ę| Ci| w| cz|ym|ś| pom|ó|c|?||"
     ]
    }
   ],
   "source": [
    "## Inicjalizacja chatu z włączonym streamingiem\n",
    "chat = ChatOpenAI(\n",
    "    streaming=True\n",
    ")\n",
    "\n",
    "# Wywołanie chatu wraz z funkcją przyjmującą kolejne tokeny składające się na wypowiedź modelu\n",
    "chunks = []\n",
    "async for chunk in chat.astream(\"Cześć, jestem Justynka!\"):\n",
    "    chunks.append(chunk)\n",
    "    print(chunk.content, end=\"|\", flush=True)"
   ]
  },
  {
   "cell_type": "markdown",
   "metadata": {},
   "source": [
    "więcej o streamingu tutaj: https://python.langchain.com/docs/expression_language/streaming"
   ]
  }
 ],
 "metadata": {
  "kernelspec": {
   "display_name": "base",
   "language": "python",
   "name": "python3"
  },
  "language_info": {
   "codemirror_mode": {
    "name": "ipython",
    "version": 3
   },
   "file_extension": ".py",
   "mimetype": "text/x-python",
   "name": "python",
   "nbconvert_exporter": "python",
   "pygments_lexer": "ipython3",
   "version": "3.9.16"
  }
 },
 "nbformat": 4,
 "nbformat_minor": 2
}
