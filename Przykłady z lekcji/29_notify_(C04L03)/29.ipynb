{
 "cells": [
  {
   "cell_type": "code",
   "execution_count": 4,
   "metadata": {},
   "outputs": [],
   "source": [
    "from dotenv import load_dotenv\n",
    "load_dotenv(override=True)\n",
    "\n",
    "import os\n",
    "import json\n",
    "\n",
    "from langchain.vectorstores import FAISS\n",
    "# FAISS (Facebook AI Similarity Search) to biblioteka opracowana przez Facebook AI Research do wydajnego wyszukiwania podobieństw i grupowania gęstych wektorów.\n",
    "\n",
    "from langchain_openai import OpenAIEmbeddings\n",
    "from langchain.document_loaders import TextLoader\n",
    "from langchain.docstore.document import Document\n",
    "from langchain.schema import HumanMessage, SystemMessage\n",
    "from langchain_openai import ChatOpenAI"
   ]
  },
  {
   "cell_type": "code",
   "execution_count": 5,
   "metadata": {},
   "outputs": [],
   "source": [
    "VECTOR_STORE_PATH = \"memory.index\"\n",
    "MEMORY_PATH = \"memory.md\"\n",
    "\n",
    "def get_vector_store():\n",
    "    # stworzenie memory.index jeśli katalog nie istnieje\n",
    "    if os.path.exists(VECTOR_STORE_PATH):\n",
    "        return FAISS.load_local(VECTOR_STORE_PATH, embeddings=OpenAIEmbeddings(), allow_dangerous_deserialization=True)\n",
    "    \n",
    "    # załadowanie pliku do dokumentu\n",
    "    loader = TextLoader(MEMORY_PATH)\n",
    "    memory = loader.load()[0]\n",
    "    documents = [Document(page_content=content) for content in memory.page_content.split(\"\\n\\n\")]\n",
    "\n",
    "    # konwersja tekstu na embeddingi, stworzenie indeksów, stworzenie i zapisanie obiektu FAISS\n",
    "    store = FAISS.from_documents(documents, OpenAIEmbeddings())\n",
    "    store.save_local(VECTOR_STORE_PATH)\n",
    "    return store"
   ]
  },
  {
   "cell_type": "code",
   "execution_count": 6,
   "metadata": {},
   "outputs": [
    {
     "name": "stdout",
     "output_type": "stream",
     "text": [
      "Notify: jakub\n"
     ]
    }
   ],
   "source": [
    "query = \"Write a summary of the games by AI_Devs.\"\n",
    "\n",
    "# wyszukanie powiązanych dokumentów przez similarity search\n",
    "vector_store = get_vector_store()\n",
    "context = vector_store.similarity_search_with_score(query, k=2)\n",
    "context_document, context_score = context[0] # wzięcie top1 dokumentu i jego wyniku\n",
    "\n",
    "\n",
    "chat = ChatOpenAI()\n",
    "person = chat.invoke([\n",
    "    SystemMessage(f\"\"\"\n",
    "        Assign the task provided by the user to the person who is most likely to complete it based on the context and nothing else.\n",
    "        Return the lowercase name or \"general\" if you can't find a match.###{context_document.page_content if context else ''}###\n",
    "    \"\"\"),\n",
    "    HumanMessage(query),\n",
    "])\n",
    "\n",
    "print(\"Notify:\", person.content)"
   ]
  }
 ],
 "metadata": {
  "kernelspec": {
   "display_name": "Python 3",
   "language": "python",
   "name": "python3"
  },
  "language_info": {
   "codemirror_mode": {
    "name": "ipython",
    "version": 3
   },
   "file_extension": ".py",
   "mimetype": "text/x-python",
   "name": "python",
   "nbconvert_exporter": "python",
   "pygments_lexer": "ipython3",
   "version": "3.10.11"
  }
 },
 "nbformat": 4,
 "nbformat_minor": 2
}
