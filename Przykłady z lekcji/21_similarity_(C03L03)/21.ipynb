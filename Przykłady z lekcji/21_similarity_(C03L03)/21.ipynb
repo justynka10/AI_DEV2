{
 "cells": [
  {
   "cell_type": "code",
   "execution_count": 14,
   "metadata": {},
   "outputs": [],
   "source": [
    "from dotenv import load_dotenv\n",
    "load_dotenv(override=True)\n",
    "\n",
    "import os\n",
    "import json\n",
    "\n",
    "from langchain.vectorstores import FAISS\n",
    "# FAISS (Facebook AI Similarity Search) to biblioteka opracowana przez Facebook AI Research do wydajnego wyszukiwania podobieństw i grupowania gęstych wektorów.\n",
    "\n",
    "from langchain_openai import OpenAIEmbeddings\n",
    "from langchain.document_loaders import TextLoader\n",
    "from langchain.docstore.document import Document\n",
    "from langchain.schema import HumanMessage, SystemMessage\n",
    "from langchain_openai import ChatOpenAI"
   ]
  },
  {
   "cell_type": "code",
   "execution_count": 7,
   "metadata": {},
   "outputs": [],
   "source": [
    "VECTOR_STORE_PATH = \"memory.index\"\n",
    "MEMORY_PATH = \"memory.md\"\n",
    "\n",
    "def get_vector_store():\n",
    "    # stworzenie memory.index jeśli katalog nie istnieje\n",
    "    if os.path.exists(VECTOR_STORE_PATH):\n",
    "        return FAISS.load_local(VECTOR_STORE_PATH, embeddings=OpenAIEmbeddings(), allow_dangerous_deserialization=True)\n",
    "    \n",
    "    # załadowanie pliku do dokumentu\n",
    "    loader = TextLoader(MEMORY_PATH)\n",
    "    memory = loader.load()[0]\n",
    "    documents = [Document(page_content=content) for content in memory.page_content.split(\"\\n\\n\")]\n",
    "\n",
    "    # konwersja tekstu na embeddingi, stworzenie indeksów, stworzenie i zapisanie obiektu FAISS\n",
    "    store = FAISS.from_documents(documents, OpenAIEmbeddings())\n",
    "    store.save_local(VECTOR_STORE_PATH)\n",
    "    return store"
   ]
  },
  {
   "cell_type": "markdown",
   "metadata": {},
   "source": [
    "`FAISS.from_documents()` pobiera listę dokumentów i:\n",
    "- generuje embeddingi przy użyciu modelu do embeddingów OpenAI, \n",
    "- tworzy indeks wektorów FAISS (domyślnie IndexFLatL2)\n",
    "- przechowuje embeddingi i dokumenty w indeksie\n",
    "- zwraca przeszukiwalny obiekt FAISS."
   ]
  },
  {
   "cell_type": "code",
   "execution_count": 12,
   "metadata": {},
   "outputs": [
    {
     "name": "stdout",
     "output_type": "stream",
     "text": [
      "Yes, the name of Adam's dog is Alexa.\n"
     ]
    }
   ],
   "source": [
    "query = \"Do you know the name of Adam's dog?\"\n",
    "\n",
    "# wyszukanie powiązanych dokumentów przez similarity search\n",
    "vector_store = get_vector_store()\n",
    "context = vector_store.similarity_search_with_score(query, k=1)\n",
    "context_document, context_score = context[0] # wzięcie top1 dokumentu i jego wyniku\n",
    "\n",
    "\n",
    "chat = ChatOpenAI()\n",
    "response = chat.invoke([\n",
    "    SystemMessage(f\"\"\"\n",
    "        Answer questions as truthfully using the context below and nothing more. If you don't know the answer, say \"don't know\".\n",
    "        context###{context_document.page_content if context else ''}###\n",
    "    \"\"\"),\n",
    "    HumanMessage(query),\n",
    "])\n",
    "\n",
    "print(response.content)"
   ]
  },
  {
   "cell_type": "markdown",
   "metadata": {},
   "source": [
    "Trzeba trzymać się języka, w którym stworzona jest nasza baza wiedzy. Gdy dokument jest po angielsku, to na pytanie \"Czy wiesz jak ma na imie pies Adama?\" odpowiedź brzmi \"Nie znam imienia psa Adama.\""
   ]
  },
  {
   "cell_type": "markdown",
   "metadata": {},
   "source": [
    "------------------------\n",
    "Opisywanie bazy dokumentów metadanymi (na podstawie przykładu 11_docs):"
   ]
  },
  {
   "cell_type": "code",
   "execution_count": 25,
   "metadata": {},
   "outputs": [
    {
     "name": "stdout",
     "output_type": "stream",
     "text": [
      "[[\"0\", {\"page_content\": \"Adam has various skills but describes himself as \\\"just curious.\\\"\", \"metadata\": {}}], [\"1\", {\"page_content\": \"Adam have a dog named Alexa.\", \"metadata\": {}}], [\"2\", {\"page_content\": \"Adam lives in Krakow with his fianc\\u0102\\u00a9e and dog.\", \"metadata\": {}}], [\"3\", {\"page_content\": \"Adam is involved in a couple of projects like eduweb.pl, ahoy.so, easy.tools, overment.com, heyalice.app, automation.house, and more.\", \"metadata\": {}}], [\"4\", {\"page_content\": \"Adam knows JavaScript and Python very well. He's full-stack engineer.\", \"metadata\": {}}], [\"5\", {\"page_content\": \"Adam loves music. He listens to Spotify all the time.\", \"metadata\": {}}], [\"6\", {\"page_content\": \"Adam's nickname is 'overment'.\", \"metadata\": {}}], [\"7\", {\"page_content\": \"Adam has a youtube channel named 'overment'.\", \"metadata\": {}}], [\"8\", {\"page_content\": \"Adam is a big fan of Apple products.\", \"metadata\": {}}], [\"9\", {\"page_content\": \"Adam is a big fan of Tesla cars.\", \"metadata\": {}}]]\n"
     ]
    }
   ],
   "source": [
    "# załadowanie pliku do dokumentu\n",
    "loader = TextLoader(MEMORY_PATH)\n",
    "memory = loader.load()[0]\n",
    "documents = [Document(page_content=content) for content in memory.page_content.split(\"\\n\\n\")]\n",
    "\n",
    "# przekształcenie listy obiektów 'documents' na listę słowników a dalej na listę takich list z indeksami\n",
    "documents_dict = [{\"page_content\": doc.page_content, \"metadata\": doc.metadata} for doc in documents]\n",
    "docstore = [[str(idx), doc] if idx == 0 else [str(idx), doc] for idx, doc in enumerate(documents_dict)]\n",
    "\n",
    "docstore_json = json.dumps(docstore)\n",
    "print(docstore_json)"
   ]
  }
 ],
 "metadata": {
  "kernelspec": {
   "display_name": "base",
   "language": "python",
   "name": "python3"
  },
  "language_info": {
   "codemirror_mode": {
    "name": "ipython",
    "version": 3
   },
   "file_extension": ".py",
   "mimetype": "text/x-python",
   "name": "python",
   "nbconvert_exporter": "python",
   "pygments_lexer": "ipython3",
   "version": "3.9.16"
  }
 },
 "nbformat": 4,
 "nbformat_minor": 2
}
