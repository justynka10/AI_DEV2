{
 "cells": [
  {
   "cell_type": "code",
   "execution_count": 21,
   "metadata": {},
   "outputs": [],
   "source": [
    "from dotenv import load_dotenv\n",
    "load_dotenv(override=True)\n",
    "\n",
    "import json\n",
    "from langchain_community.document_loaders import TextLoader\n",
    "from langchain.docstore.document import Document\n",
    "from langchain_openai import OpenAIEmbeddings\n",
    "from uuid import uuid4\n",
    "from qdrant_client import QdrantClient\n",
    "\n",
    "# start docker:\n",
    "# docker pull qdrant/qdrant\n",
    "# docker run -p 6333:6333 -v C:\\Users\\Justyna\\Documents\\GitHub\\AI_DEV2\\qdrant_data:/qdrant/storage qdrant/qdrant"
   ]
  },
  {
   "cell_type": "code",
   "execution_count": 24,
   "metadata": {},
   "outputs": [
    {
     "name": "stdout",
     "output_type": "stream",
     "text": [
      "collections=[]\n"
     ]
    }
   ],
   "source": [
    "# połączenie z Qdrant\n",
    "MEMORY_PATH = \"memory.md\"\n",
    "COLLECTION_NAME = \"ai_devs\"\n",
    "\n",
    "qdrant = QdrantClient()\n",
    "embeddings = OpenAIEmbeddings()\n",
    "result = qdrant.get_collections()\n",
    "indexed = next((collection for collection in result.collections if collection.name == COLLECTION_NAME), None)\n",
    "print(result)\n",
    "\n",
    "# stworzenie kolekcji jeśli nie istnieje\n",
    "if not indexed:\n",
    "    qdrant.recreate_collection(\n",
    "        collection_name=COLLECTION_NAME,\n",
    "        vectors_config={\"size\": 1536, \"distance\": \"Cosine\", \"on_disk\": True},\n",
    "    )\n",
    "\n",
    "collection_info = qdrant.get_collection(collection_name=COLLECTION_NAME)"
   ]
  },
  {
   "cell_type": "code",
   "execution_count": 25,
   "metadata": {},
   "outputs": [],
   "source": [
    "# jeśli nie ma dokumentów w kolekcji\n",
    "if not collection_info.points_count:\n",
    "    # wczytanie pliku\n",
    "    loader = TextLoader(MEMORY_PATH)\n",
    "    memory = loader.load()\n",
    "    documents = [Document(page_content=content) for content in memory[0].page_content.split(\"\\n\\n\")]\n",
    "\n",
    "    # dodanie metadanych\n",
    "    for document in documents:\n",
    "        document.metadata[\"source\"] = COLLECTION_NAME\n",
    "        document.metadata[\"content\"] = document.page_content\n",
    "        document.metadata[\"uuid\"] = str(uuid4()) # unikalny identyfikator (będzie przydatny później np. do filtrowania)\n",
    "\n",
    "    # generowanie embeddingów\n",
    "    points = []\n",
    "    for document in documents:\n",
    "        embedding = embeddings.embed_documents([document.page_content])[0]\n",
    "        points.append(\n",
    "            {\n",
    "                \"id\": document.metadata[\"uuid\"],\n",
    "                \"payload\": document.metadata,\n",
    "                \"vector\": embedding,\n",
    "            }\n",
    "        )\n",
    "\n",
    "    # index\n",
    "    qdrant.upsert(\n",
    "        collection_name=COLLECTION_NAME,\n",
    "        wait=True,\n",
    "        points=points,\n",
    "    )\n",
    "\n",
    "# collection_info = qdrant.get_collection(collection_name=COLLECTION_NAME)\n",
    "# json.loads(collection_info.json())"
   ]
  },
  {
   "cell_type": "code",
   "execution_count": 20,
   "metadata": {},
   "outputs": [
    {
     "name": "stdout",
     "output_type": "stream",
     "text": [
      "ID:  f876900e-659a-4ae3-bc13-3761b8506d37\n",
      "Score:  0.9010632\n",
      "{\n",
      "    \"content\": \"Adam have a dog named Alexa.\",\n",
      "    \"source\": \"ai_devs\",\n",
      "    \"uuid\": \"f876900e-659a-4ae3-bc13-3761b8506d37\"\n",
      "}\n",
      "ID:  24a37b68-baba-4caa-b656-30e8092a304f\n",
      "Score:  0.84295344\n",
      "{\n",
      "    \"content\": \"Adam lives in Krakow with his fianc\\u0102\\u00a9e and dog.\",\n",
      "    \"source\": \"ai_devs\",\n",
      "    \"uuid\": \"24a37b68-baba-4caa-b656-30e8092a304f\"\n",
      "}\n"
     ]
    }
   ],
   "source": [
    "# przeszukiwanie dokumentów w wybranej kolekcji powiązanych z pytaniem\n",
    "query = \"Do you know the name of Adam's dog?\"\n",
    "query_embedding = embeddings.embed_query(query)\n",
    "\n",
    "search_result = qdrant.search(\n",
    "    collection_name=COLLECTION_NAME,\n",
    "    query_vector=query_embedding,\n",
    "    limit=2,\n",
    "    query_filter={\"must\": [{\"key\": \"source\", \"match\": {\"value\": COLLECTION_NAME}}]},\n",
    ")\n",
    "\n",
    "for result in search_result:\n",
    "    print(\"ID: \", result.id)\n",
    "    print(\"Score: \", result.score)\n",
    "    print(json.dumps(result.payload,indent=4))"
   ]
  }
 ],
 "metadata": {
  "kernelspec": {
   "display_name": "Python 3",
   "language": "python",
   "name": "python3"
  },
  "language_info": {
   "codemirror_mode": {
    "name": "ipython",
    "version": 3
   },
   "file_extension": ".py",
   "mimetype": "text/x-python",
   "name": "python",
   "nbconvert_exporter": "python",
   "pygments_lexer": "ipython3",
   "version": "3.10.11"
  }
 },
 "nbformat": 4,
 "nbformat_minor": 2
}
