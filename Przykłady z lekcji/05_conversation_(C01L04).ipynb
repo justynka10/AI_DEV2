{
 "cells": [
  {
   "cell_type": "code",
   "execution_count": 2,
   "metadata": {},
   "outputs": [],
   "source": [
    "from dotenv import load_dotenv\n",
    "load_dotenv(override=True)\n",
    "from langchain_openai import ChatOpenAI\n",
    "from langchain.memory import ConversationBufferWindowMemory # \"pływające okno\" \n",
    "from langchain.chains import ConversationChain"
   ]
  },
  {
   "cell_type": "code",
   "execution_count": 7,
   "metadata": {},
   "outputs": [
    {
     "name": "stdout",
     "output_type": "stream",
     "text": [
      "AI: {'input': 'Cześć jestem Justynka!', 'history': '', 'response': 'Cześć Justynka! Jak mogę Ci dzisiaj pomóc? Jestem gotowy odpowiedzieć na wszelkie pytania, które masz dla mnie.'}\n",
      "AI: {'input': 'Zaczekaj', 'history': 'Human: Cześć jestem Justynka!\\nAI: Cześć Justynka! Jak mogę Ci dzisiaj pomóc? Jestem gotowy odpowiedzieć na wszelkie pytania, które masz dla mnie.', 'response': 'Oczywiście, poczekam na Twoje pytanie. Jestem tutaj, aby pomóc!'}\n",
      "AI: {'input': 'Znasz moje imię?', 'history': 'Human: Zaczekaj\\nAI: Oczywiście, poczekam na Twoje pytanie. Jestem tutaj, aby pomóc!', 'response': 'Niestety, nie mam dostępu do Twoich danych osobowych, więc nie znam Twojego imienia. Czy mogę pomóc Ci w inny sposób?'}\n"
     ]
    }
   ],
   "source": [
    "chat = ChatOpenAI()\n",
    "memory = ConversationBufferWindowMemory(k=1) # Ustawienie parametru \"k\" na wartość 1 sprawia, że model pamięta wyłącznie poprzednią interakcję. \n",
    "chain = ConversationChain(llm=chat, memory=memory)\n",
    "\n",
    "response1 = chain.invoke(input=\"Cześć jestem Justynka!\")\n",
    "print(f\"AI: {response1}\")\n",
    "\n",
    "response2 = chain.invoke(input=\"Zaczekaj\")\n",
    "print(f\"AI: {response2}\")\n",
    "\n",
    "# Tutaj model \"zapomina\" imię, ponieważ \"k\" jest ustawione na 1. Wcześniejsza wiadomość została ucięta.\n",
    "response3 = chain.invoke(input=\"Znasz moje imię?\")\n",
    "print(f\"AI: {response3}\") # \"Tak, twoje imię to Zaczekaj\", albo \"Nietesty, nie mam dostępu...\""
   ]
  },
  {
   "cell_type": "code",
   "execution_count": 3,
   "metadata": {},
   "outputs": [
    {
     "name": "stdout",
     "output_type": "stream",
     "text": [
      "AI: {'input': 'Cześć jestem Justynka!', 'history': '', 'response': 'Cześć Justynka! Miło mi cię poznać. Jak się masz?'}\n",
      "AI: {'input': 'Zaczekaj', 'history': 'Human: Cześć jestem Justynka!\\nAI: Cześć Justynka! Miło mi cię poznać. Jak się masz?', 'response': 'Oczywiście, nie ma problemu. Jestem tutaj, aby pomóc. Czy masz jakieś pytanie, na które mogę odpowiedzieć?'}\n",
      "AI: {'input': 'Znasz moje imię?', 'history': 'Human: Cześć jestem Justynka!\\nAI: Cześć Justynka! Miło mi cię poznać. Jak się masz?\\nHuman: Zaczekaj\\nAI: Oczywiście, nie ma problemu. Jestem tutaj, aby pomóc. Czy masz jakieś pytanie, na które mogę odpowiedzieć?', 'response': 'Tak, Twoje imię to Justynka. Czy mogę pomóc Ci czymś jeszcze?'}\n"
     ]
    }
   ],
   "source": [
    "chat = ChatOpenAI()\n",
    "memory = ConversationBufferWindowMemory( k=3) # a teraz niech pamięta 3 ostatnie interakcje \n",
    "chain = ConversationChain(llm=chat, memory=memory)\n",
    "\n",
    "response1 = chain.invoke(input=\"Cześć jestem Justynka!\")\n",
    "print(f\"AI: {response1}\")\n",
    "\n",
    "response2 = chain.invoke(input=\"Zaczekaj\")\n",
    "print(f\"AI: {response2}\")\n",
    "\n",
    "# Teraz wie, że jestem Justynka, bo pamięta 3 ostatnie interakcje\n",
    "response3 = chain.invoke(input=\"Znasz moje imię?\")\n",
    "print(f\"AI: {response3}\")"
   ]
  }
 ],
 "metadata": {
  "kernelspec": {
   "display_name": "base",
   "language": "python",
   "name": "python3"
  },
  "language_info": {
   "codemirror_mode": {
    "name": "ipython",
    "version": 3
   },
   "file_extension": ".py",
   "mimetype": "text/x-python",
   "name": "python",
   "nbconvert_exporter": "python",
   "pygments_lexer": "ipython3",
   "version": "3.9.16"
  }
 },
 "nbformat": 4,
 "nbformat_minor": 2
}
