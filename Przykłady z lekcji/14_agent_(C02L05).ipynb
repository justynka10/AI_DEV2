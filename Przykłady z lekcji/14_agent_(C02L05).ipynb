{
 "cells": [
  {
   "cell_type": "code",
   "execution_count": 1,
   "metadata": {},
   "outputs": [],
   "source": [
    "from dotenv import load_dotenv\n",
    "load_dotenv(override=True)\n",
    "\n",
    "from langchain_openai import ChatOpenAI\n",
    "from langchain.schema import HumanMessage\n",
    "import json"
   ]
  },
  {
   "cell_type": "markdown",
   "metadata": {},
   "source": [
    "Automatyczny wybór funkcji, koncepcja Agentów i Single Entry Point, czyli jeden punkt wejścia."
   ]
  },
  {
   "cell_type": "code",
   "execution_count": 2,
   "metadata": {},
   "outputs": [],
   "source": [
    "# definicja schematów funkcji mnożenia, dodawania i odejmowania\n",
    "multiplySchema = {\n",
    "    \"name\": \"multiply\",\n",
    "    \"description\": \"Multiply two numbers\",\n",
    "    \"parameters\": {\n",
    "        \"type\": \"object\",\n",
    "        \"properties\": {\n",
    "            \"first\": {\n",
    "                \"type\": \"number\",\n",
    "                \"description\": \"First value to multiply\"\n",
    "            },\n",
    "            \"second\": {\n",
    "                \"type\": \"number\",\n",
    "                \"description\": \"Second value to multiply\"\n",
    "            }\n",
    "        },\n",
    "        \"required\": [\n",
    "            \"first\", \"second\"\n",
    "        ]\n",
    "    }\n",
    "}\n",
    "\n",
    "addSchema = {\n",
    "    \"name\": \"add\",\n",
    "    \"description\": \"Add two numbers\",\n",
    "    \"parameters\": {\n",
    "        \"type\": \"object\",\n",
    "        \"properties\": {\n",
    "            \"first\": {\n",
    "                \"type\": \"number\",\n",
    "                \"description\": \"First value to add\"\n",
    "            },\n",
    "            \"second\": {\n",
    "                \"type\": \"number\",\n",
    "                \"description\": \"Second value to add\"\n",
    "            }\n",
    "        },\n",
    "        \"required\": [\n",
    "            \"first\", \"second\"\n",
    "        ]\n",
    "    }\n",
    "}\n",
    "\n",
    "subtractSchema = {\n",
    "    \"name\": \"subtract\",\n",
    "    \"description\": \"Subtract two numbers\",\n",
    "    \"parameters\": {\n",
    "        \"type\": \"object\",\n",
    "        \"properties\": {\n",
    "            \"first\": {\n",
    "                \"type\": \"number\",\n",
    "                \"description\": \"First value to subtract\"\n",
    "            },\n",
    "            \"second\": {\n",
    "                \"type\": \"number\",\n",
    "                \"description\": \"Second value to subtract\"\n",
    "            }\n",
    "        },\n",
    "        \"required\": [\n",
    "            \"first\", \"second\"\n",
    "        ]\n",
    "    }\n",
    "}"
   ]
  },
  {
   "cell_type": "code",
   "execution_count": 3,
   "metadata": {},
   "outputs": [],
   "source": [
    "# funkcja do parsowania nazwy funkcji wybranej przez model\n",
    "def parse_function_call(result):\n",
    "    try:\n",
    "        result.additional_kwargs['function_call']\n",
    "        function_call = result.additional_kwargs['function_call']\n",
    "        return {\n",
    "            \"name\": function_call[\"name\"],\n",
    "            \"args\": json.loads(function_call[\"arguments\"])\n",
    "        }\n",
    "    except:\n",
    "        return None"
   ]
  },
  {
   "cell_type": "code",
   "execution_count": 4,
   "metadata": {},
   "outputs": [],
   "source": [
    "# zesatw narzędzi - dostępnych funkcji\n",
    "tools = {\n",
    "    \"multiply\": lambda a, b: a*b,\n",
    "    \"add\": lambda a, b: a+b,\n",
    "    \"subtract\": lambda a, b: a-b\n",
    "}"
   ]
  },
  {
   "cell_type": "code",
   "execution_count": 5,
   "metadata": {},
   "outputs": [
    {
     "name": "stdout",
     "output_type": "stream",
     "text": [
      "multiply {'first': 2929590, 'second': 129359}\n",
      "378968832810\n"
     ]
    }
   ],
   "source": [
    "model = ChatOpenAI(\n",
    "    model = \"gpt-4-0613\"\n",
    ").bind(\n",
    "    functions= [multiplySchema, addSchema, subtractSchema],\n",
    "    #function_call= {\"name\": \"query_enrichment\"},\n",
    ")\n",
    "\n",
    "result = model.invoke([\n",
    "    HumanMessage(\"2929590 * 129359\")\n",
    "])\n",
    "\n",
    "# Analizuj wywołanie funkcji z wyniku\n",
    "action = parse_function_call(result)\n",
    "\n",
    "# Wyświetl akcję, jeśli jest dostępna\n",
    "if action:\n",
    "    print(action[\"name\"], action[\"args\"])\n",
    "    result = tools[action[\"name\"]](action[\"args\"][\"first\"], action[\"args\"][\"second\"])\n",
    "    print(result)\n",
    "else:\n",
    "    print(\"Brak wywołania funkcji w wyniku.\")"
   ]
  }
 ],
 "metadata": {
  "kernelspec": {
   "display_name": "base",
   "language": "python",
   "name": "python3"
  },
  "language_info": {
   "codemirror_mode": {
    "name": "ipython",
    "version": 3
   },
   "file_extension": ".py",
   "mimetype": "text/x-python",
   "name": "python",
   "nbconvert_exporter": "python",
   "pygments_lexer": "ipython3",
   "version": "3.9.16"
  }
 },
 "nbformat": 4,
 "nbformat_minor": 2
}
