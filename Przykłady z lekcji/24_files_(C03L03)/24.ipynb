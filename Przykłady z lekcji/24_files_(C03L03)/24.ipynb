{
 "cells": [
  {
   "cell_type": "code",
   "execution_count": 1,
   "metadata": {},
   "outputs": [],
   "source": [
    "from langchain.document_loaders import TextLoader\n",
    "import html2text\n",
    "from bs4 import BeautifulSoup\n",
    "import json\n",
    "import re\n",
    "from typing import List\n",
    "from langchain.docstore.document import Document"
   ]
  },
  {
   "cell_type": "code",
   "execution_count": 36,
   "metadata": {},
   "outputs": [],
   "source": [
    "def extract_links_to_metadata(docs: List[Document]) -> List[Document]:\n",
    "    for doc in docs:\n",
    "        content = doc.page_content\n",
    "        links = re.findall(r'\\[.*?\\]\\((.*?)\\)', content)\n",
    "        unique_links = {}\n",
    "        link_placeholders = {}\n",
    "        \n",
    "        for i, link in enumerate(links, start=1):\n",
    "            if link not in unique_links:\n",
    "                placeholder = f'${i}'\n",
    "                unique_links[link] = placeholder\n",
    "                link_placeholders[link] = placeholder\n",
    "                doc.metadata['links'][f'link{i}'] = link\n",
    "        \n",
    "        for link, placeholder in link_placeholders.items():\n",
    "            content = content.replace(f']({link})', f']({placeholder})')\n",
    "        \n",
    "        doc.page_content = content\n",
    "    \n",
    "    return docs"
   ]
  },
  {
   "cell_type": "code",
   "execution_count": 41,
   "metadata": {},
   "outputs": [],
   "source": [
    "# załadowanie zawartości pliku html (kod strony został wcześniej zapisany)\n",
    "loader = TextLoader(\"aidevs.html\", encoding=\"utf-8\")\n",
    "html = loader.load()[0]\n",
    "\n",
    "# wybranie tylko sekcji, która jest nam potrzebna\n",
    "soup = BeautifulSoup(html.page_content, 'html.parser')\n",
    "authors = soup.select_one(\"#instructors\")\n",
    "\n",
    "# konwersja do markdowna dla czytelności \n",
    "if authors:\n",
    "    authors_html = str(authors) \n",
    "else: \n",
    "    authors_html = \"\"\n",
    "markdown = html2text.html2text(authors_html)\n",
    "with open(\"aidevs.md\", 'w', encoding=\"utf-8\") as file: \n",
    "    file.write(markdown)\n",
    "\n",
    "chunks = markdown.split(\".jpeg)\")[1:]\n",
    "\n",
    "docs = []\n",
    "for chunk in chunks:\n",
    "    # imię autora\n",
    "    author_match = re.search(r'### (.*(?:\\n.*)?) ', chunk)\n",
    "    author = author_match.group(1).replace(' \\n', '').strip() if author_match else ''\n",
    "\n",
    "    # stworzenie metadanych\n",
    "    metadata = {\n",
    "        'source': 'aidevs',\n",
    "        'section': 'instructors',\n",
    "        'author': author,\n",
    "        'links': {},\n",
    "    }\n",
    "\n",
    "    # wyciągnięcie linków\n",
    "    doc = Document(\n",
    "        page_content=re.sub(r'[\\n\\\\]', '', chunk).replace(r'\\s{2,}', ' '),\n",
    "        metadata=metadata\n",
    "    )\n",
    "    docs.append(doc)\n",
    "\n",
    "# wyodrębnienie linków do metadanych\n",
    "docs = extract_links_to_metadata(docs)\n",
    "\n",
    "# zapisanie do jsona\n",
    "with open('aidevs.json', 'w') as f:\n",
    "    json.dump([doc.dict() for doc in docs], f, indent=2)"
   ]
  }
 ],
 "metadata": {
  "kernelspec": {
   "display_name": "base",
   "language": "python",
   "name": "python3"
  },
  "language_info": {
   "codemirror_mode": {
    "name": "ipython",
    "version": 3
   },
   "file_extension": ".py",
   "mimetype": "text/x-python",
   "name": "python",
   "nbconvert_exporter": "python",
   "pygments_lexer": "ipython3",
   "version": "3.9.16"
  }
 },
 "nbformat": 4,
 "nbformat_minor": 2
}
