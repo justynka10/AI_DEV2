{
 "cells": [
  {
   "cell_type": "code",
   "execution_count": 1,
   "metadata": {},
   "outputs": [],
   "source": [
    "from dotenv import load_dotenv\n",
    "load_dotenv(override=True)\n",
    "\n",
    "from langchain_openai import ChatOpenAI\n",
    "from langchain.schema import HumanMessage\n",
    "import json"
   ]
  },
  {
   "cell_type": "markdown",
   "metadata": {},
   "source": [
    "Mechanika <b>Function Calling</b>:\n",
    "\n",
    "- jako dodatkowy parametr zapytania przekazujemy listę funkcji (czy też narzędzi) w postaci nazwy, opisu oraz zestaw parametrów\n",
    "\n",
    "- poza tym przesyłamy także listę wiadomości, podobnie jak w klasycznej interakcji z modelem\n",
    "\n",
    "- model w odpowiedzi zwraca nam nazwę funkcji oraz listę wartości jej parametrów\n",
    "\n",
    "- opcjonalnie (ale jest to zwykle potrzebne) wskazujemy, która funkcja ma być wybrana jako domyślna. Ważne: jeśli jej nie wskażemy, a model uzna, że żadna z dostępnych funkcji nie powinna zostać uruchomiona, to w "
   ]
  },
  {
   "cell_type": "code",
   "execution_count": 2,
   "metadata": {},
   "outputs": [],
   "source": [
    "queryEnrichmentSchema = {\n",
    "    \"name\": \"query_enrichment\",\n",
    "    \"description\": \"Describe users query with semantic tags and classify with type\",\n",
    "    \"parameters\": {\n",
    "        \"type\": \"object\",\n",
    "        \"properties\": {\n",
    "            \"command\": {\n",
    "                \"type\": \"boolean\",\n",
    "                \"description\": \"Set to 'true' when query is direct command for AI. Set to 'false' when queries asks for saying/writing/translating/explaining something and all other.\"\n",
    "            },\n",
    "            \"type\": {\n",
    "                \"type\": \"string\",\n",
    "                \"description\": \"memory (queries about the user and/or AI), notes|links (queries about user's notes|links). By default pick 'memory'.\",\n",
    "                \"enum\": [\"memory\", \"notes\", \"links\"]\n",
    "            },\n",
    "            \"tags\": {\n",
    "                \"type\": \"array\",\n",
    "                \"description\": \"Multiple semantic tags/keywords that enriches query for search purposes (similar words, meanings). When query refers to the user, add 'overment' tag, and when refers to 'you' add tag 'Alice'\",\n",
    "                \"items\": {\n",
    "                    \"type\": \"string\"\n",
    "                }\n",
    "            }\n",
    "        },\n",
    "        \"required\": [\n",
    "            \"type\", \"tags\", \"command\"\n",
    "        ]\n",
    "    }\n",
    "}"
   ]
  },
  {
   "cell_type": "code",
   "execution_count": 3,
   "metadata": {},
   "outputs": [],
   "source": [
    "def parse_function_call(result):\n",
    "    try:\n",
    "        result.additional_kwargs['function_call']\n",
    "        function_call = result.additional_kwargs['function_call']\n",
    "        return {\n",
    "            \"name\": function_call[\"name\"],\n",
    "            \"args\": json.loads(function_call[\"arguments\"])\n",
    "        }\n",
    "    except:\n",
    "        return None"
   ]
  },
  {
   "cell_type": "markdown",
   "metadata": {},
   "source": [
    "Ogólny schemat pracy z Function Calling:"
   ]
  },
  {
   "cell_type": "code",
   "execution_count": 4,
   "metadata": {},
   "outputs": [
    {
     "name": "stdout",
     "output_type": "stream",
     "text": [
      "query_enrichment {'command': False, 'type': 'memory', 'tags': ['Justynka', 'wracam', 'dom', 'jutro']}\n"
     ]
    }
   ],
   "source": [
    "model = ChatOpenAI(\n",
    "    model = \"gpt-4-0613\"\n",
    ").bind(\n",
    "    functions= [queryEnrichmentSchema],\n",
    "    function_call= {\"name\": \"query_enrichment\"},\n",
    ")\n",
    "\n",
    "# print([queryEnrichmentSchema])\n",
    "# print({\"name\": \"query_enrichment\"})\n",
    "\n",
    "result = model.invoke([\n",
    "    HumanMessage(\"Cześć, jestem Justynka i jutro wracam do domu :)\")\n",
    "])\n",
    "\n",
    "# Analizuj wywołanie funkcji z wyniku\n",
    "action = parse_function_call(result)\n",
    "\n",
    "# Wyświetl akcję, jeśli jest dostępna\n",
    "if action:\n",
    "    print(action[\"name\"], action[\"args\"])\n",
    "else:\n",
    "    print(\"Brak wywołania funkcji w wyniku.\")"
   ]
  },
  {
   "cell_type": "markdown",
   "metadata": {},
   "source": [
    "Kolejnym krokiem jest faktyczne wykonanie wskazanej akcji. Np. w ten sposób, gdybyśmy mieli zdefiniowaną funckję dodawania:"
   ]
  },
  {
   "cell_type": "code",
   "execution_count": 11,
   "metadata": {},
   "outputs": [
    {
     "name": "stdout",
     "output_type": "stream",
     "text": [
      "Wynik to 9\n"
     ]
    }
   ],
   "source": [
    "function_name = \"add\"\n",
    "functions_args = [5, 4]\n",
    "\n",
    "functions = {\n",
    "    \"add\": lambda a, b: a + b\n",
    "}\n",
    "\n",
    "if function_name in functions:\n",
    "    result = functions[function_name](*functions_args)\n",
    "    print(f\"Wynik to {result}\")\n",
    "else:\n",
    "    print(f\"Funkcja {function_name} nie istnieje.\")"
   ]
  }
 ],
 "metadata": {
  "kernelspec": {
   "display_name": "base",
   "language": "python",
   "name": "python3"
  },
  "language_info": {
   "codemirror_mode": {
    "name": "ipython",
    "version": 3
   },
   "file_extension": ".py",
   "mimetype": "text/x-python",
   "name": "python",
   "nbconvert_exporter": "python",
   "pygments_lexer": "ipython3",
   "version": "3.9.16"
  }
 },
 "nbformat": 4,
 "nbformat_minor": 2
}
