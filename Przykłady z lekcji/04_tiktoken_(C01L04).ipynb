{
 "cells": [
  {
   "cell_type": "code",
   "execution_count": 1,
   "metadata": {},
   "outputs": [],
   "source": [
    "from dotenv import load_dotenv\n",
    "load_dotenv(override=True)\n",
    "from typing import List, Dict, Optional\n",
    "from tiktoken import get_encoding"
   ]
  },
  {
   "cell_type": "code",
   "execution_count": 2,
   "metadata": {},
   "outputs": [],
   "source": [
    "Message = Dict[str, Optional[str]]\n",
    "\n",
    "# Funkcja count_tokens oblicza liczbę tokenów w zestawie wiadomości. \n",
    "def count_tokens(messages: List[Message], model=\"gpt-3.5-turbo-0613\") -> int:\n",
    "    encoding = get_encoding(\"cl100k_base\")\n",
    "\n",
    "    tokens_per_message, tokens_per_name = 0, 0\n",
    "    if model in [\"gpt-3.5-turbo-0613\", \"gpt-3.5-turbo-16k-0613\", \"gpt-4-0314\", \"gpt-4-32k-0314\", \"gpt-4-0613\", \"gpt-4-32k-0613\"]:\n",
    "        tokens_per_message = 3\n",
    "        tokens_per_name = 1\n",
    "    elif model == \"gpt-3.5-turbo-0301\":\n",
    "        tokens_per_message = 4\n",
    "        tokens_per_name = -1\n",
    "    elif \"gpt-3.5-turbo\" in model:\n",
    "        print(\"Warning: gpt-3.5-turbo may update over time. Returning num tokens assuming gpt-3.5-turbo-0613.\")\n",
    "        return count_tokens(messages, \"gpt-3.5-turbo-0613\")\n",
    "    elif \"gpt-4\" in model:\n",
    "        print(\"Warning: gpt-4 may update over time. Returning num tokens assuming gpt-4-0613.\")\n",
    "        return count_tokens(messages, \"gpt-4-0613\")\n",
    "    else:\n",
    "        raise ValueError(f\"num_tokens_from_messages() is not implemented for model {model}. See https://github.com/openai/openai-python/blob/main/chatml.md for information on how messages are converted to tokens.\")\n",
    "\n",
    "    num_tokens = 0\n",
    "    for message in messages:\n",
    "        num_tokens += tokens_per_message\n",
    "        for key, value in message.items():\n",
    "            if value is not None:  # Upewniamy się, że przetwarzamy tylko istniejące wartości\n",
    "                num_tokens += len(encoding.encode(value))\n",
    "                if key == \"name\":\n",
    "                    num_tokens += tokens_per_name\n",
    "    num_tokens += 3\n",
    "    return num_tokens\n"
   ]
  },
  {
   "cell_type": "code",
   "execution_count": 3,
   "metadata": {},
   "outputs": [
    {
     "name": "stdout",
     "output_type": "stream",
     "text": [
      "Warning: gpt-4 may update over time. Returning num tokens assuming gpt-4-0613.\n",
      "Token Count: 16\n",
      "Token IDs: [34, 3059, 25898, 13599, 336, 4702, 1910, 4657, 0]\n"
     ]
    }
   ],
   "source": [
    "# Definicja Message zgodnie z wcześniejszym przykładem\n",
    "Message = dict\n",
    "\n",
    "# Przykładowa lista wiadomości\n",
    "messages: List[Message] = [\n",
    "    {\n",
    "        \"role\": \"system\",\n",
    "        \"content\": \"Cześć jestem Justynka!\",\n",
    "    }\n",
    "]\n",
    "\n",
    "# Wywołanie funkcji countTokens i wydruk wyniku\n",
    "num = count_tokens(messages, 'gpt-4')\n",
    "print(f\"Token Count: {num}\")\n",
    "\n",
    "# Użycie get_encoding do zakodowania treści pierwszej wiadomości\n",
    "encoding = get_encoding(\"cl100k_base\")\n",
    "print(f\"Token IDs: {encoding.encode(messages[0]['content'])}\")\n"
   ]
  }
 ],
 "metadata": {
  "kernelspec": {
   "display_name": "base",
   "language": "python",
   "name": "python3"
  },
  "language_info": {
   "codemirror_mode": {
    "name": "ipython",
    "version": 3
   },
   "file_extension": ".py",
   "mimetype": "text/x-python",
   "name": "python",
   "nbconvert_exporter": "python",
   "pygments_lexer": "ipython3",
   "version": "3.9.16"
  }
 },
 "nbformat": 4,
 "nbformat_minor": 2
}
