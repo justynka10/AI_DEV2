{
 "cells": [
  {
   "cell_type": "code",
   "execution_count": 1,
   "metadata": {},
   "outputs": [],
   "source": [
    "from dotenv import load_dotenv\n",
    "load_dotenv(override=True)\n",
    "\n",
    "from langchain.vectorstores import FAISS\n",
    "from langchain_openai import OpenAIEmbeddings\n",
    "from langchain.docstore.document import Document"
   ]
  },
  {
   "cell_type": "code",
   "execution_count": 7,
   "metadata": {},
   "outputs": [
    {
     "name": "stdout",
     "output_type": "stream",
     "text": [
      "[Document(page_content='Justyna jest matematyczką'), Document(page_content='Justyna zajmuje się też SEO w firmie'), Document(page_content='Justyna jest analitykiem danych'), Document(page_content='Justyna ma kwiatka - alokazję')]\n"
     ]
    }
   ],
   "source": [
    "documents = [\n",
    "    Document(page_content=\"Justyna jest analitykiem danych\"),\n",
    "    Document(page_content=\"który szczególnie lubi pracować z danymi medycznymi\"),\n",
    "    Document(page_content=\"Justyna ma kwiatka - alokazję\"),\n",
    "    Document(page_content=\"Justyna jest matematyczką\"),\n",
    "    Document(page_content=\"Justyna lubi spać\"),\n",
    "    Document(page_content=\"Justyna zajmuje się też SEO w firmie\"),\n",
    "]\n",
    "\n",
    "embeddings = OpenAIEmbeddings()\n",
    "vector_store = FAISS.from_documents(documents, embeddings)\n",
    "\n",
    "result = vector_store.similarity_search(\"Czym zawodowo zajmuje się Justyna?\", k=4)\n",
    "print(result)"
   ]
  },
  {
   "cell_type": "markdown",
   "metadata": {},
   "source": [
    "Nawet po rozszerzeniu topK wyników do 4 albo 5, ostatnimi wynikami jest to, że Justyna ma kwiatka i lubi spać, a nie, że lubi pracować z danymi medycznymi."
   ]
  }
 ],
 "metadata": {
  "kernelspec": {
   "display_name": "base",
   "language": "python",
   "name": "python3"
  },
  "language_info": {
   "codemirror_mode": {
    "name": "ipython",
    "version": 3
   },
   "file_extension": ".py",
   "mimetype": "text/x-python",
   "name": "python",
   "nbconvert_exporter": "python",
   "pygments_lexer": "ipython3",
   "version": "3.9.16"
  }
 },
 "nbformat": 4,
 "nbformat_minor": 2
}
