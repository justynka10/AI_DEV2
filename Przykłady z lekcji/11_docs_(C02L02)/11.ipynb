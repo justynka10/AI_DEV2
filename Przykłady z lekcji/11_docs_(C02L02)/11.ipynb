{
 "cells": [
  {
   "cell_type": "code",
   "execution_count": 3,
   "metadata": {},
   "outputs": [],
   "source": [
    "from dotenv import load_dotenv\n",
    "load_dotenv(override=True)\n",
    "\n",
    "import json\n",
    "from langchain_community.document_loaders import TextLoader\n",
    "from langchain_openai import ChatOpenAI\n",
    "from langchain.schema import SystemMessage, HumanMessage\n",
    "from langchain.docstore.document import Document"
   ]
  },
  {
   "cell_type": "markdown",
   "metadata": {},
   "source": [
    "Tworzenie dokumentów na podstawie fragmentów plików (ang.chunk):"
   ]
  },
  {
   "cell_type": "code",
   "execution_count": 4,
   "metadata": {},
   "outputs": [],
   "source": [
    "loader = TextLoader('docs.md')\n",
    "doc = loader.load()\n",
    "\n",
    "# podział pliku na dokumenty według podwójnego znkau nwoej linii\n",
    "documents = [Document(page_content=content) for content in doc[0].page_content.split(\"\\n\\n\")]\n",
    "\n",
    "# przetworzenie dokumentów promptem opisującym ich źródło (w tym przypadku jest to wybór imienia osoby, z którą powiązany jest dany dokument)\n",
    "model = ChatOpenAI()\n",
    "\n",
    "system_message = SystemMessage('''Describe the following document with one of the following keywords:\n",
    "            Mateusz, Jakub, Adam. Return the keyword and nothing else.''')\n",
    "\n",
    "descriptions = []\n",
    "for document in documents:\n",
    "    description = model.invoke([\n",
    "        system_message,\n",
    "        HumanMessage(f\"{document.page_content}\")\n",
    "    ])\n",
    "    descriptions.append(description.content)\n",
    "\n",
    "for index, description in enumerate(descriptions):\n",
    "    # Zaktualizuj 'source' w 'metadata' odpowiedniego dokumentu za pomocą opisu\n",
    "    documents[index].metadata['source'] = description\n",
    "\n",
    "# Przekształć listę obiektów 'documents' na listę słowników\n",
    "documents_dict = [{\"page_content\": doc.page_content, \"metadata\": doc.metadata} for doc in documents]\n",
    "\n",
    "try:\n",
    "    with open(\"docs.json\", \"w\", encoding='utf8') as file:\n",
    "        json.dump(documents_dict, file, indent=1)\n",
    "except FileNotFoundError:\n",
    "    print(\"Upewnij się, że ścieżka jest poprawna.\")"
   ]
  }
 ],
 "metadata": {
  "kernelspec": {
   "display_name": "base",
   "language": "python",
   "name": "python3"
  },
  "language_info": {
   "codemirror_mode": {
    "name": "ipython",
    "version": 3
   },
   "file_extension": ".py",
   "mimetype": "text/x-python",
   "name": "python",
   "nbconvert_exporter": "python",
   "pygments_lexer": "ipython3",
   "version": "3.9.16"
  }
 },
 "nbformat": 4,
 "nbformat_minor": 2
}
