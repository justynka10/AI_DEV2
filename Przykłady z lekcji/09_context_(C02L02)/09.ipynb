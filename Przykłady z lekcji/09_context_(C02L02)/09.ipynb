{
 "cells": [
  {
   "cell_type": "code",
   "execution_count": 1,
   "metadata": {},
   "outputs": [],
   "source": [
    "from dotenv import load_dotenv\n",
    "load_dotenv(override=True)\n",
    "\n",
    "from langchain_community.document_loaders import TextLoader\n",
    "from langchain_openai import ChatOpenAI\n",
    "from langchain.schema import SystemMessage, HumanMessage"
   ]
  },
  {
   "cell_type": "markdown",
   "metadata": {},
   "source": [
    "Ładowanie dynamicznego kontekstu z pliku:"
   ]
  },
  {
   "cell_type": "code",
   "execution_count": 4,
   "metadata": {},
   "outputs": [
    {
     "name": "stdout",
     "output_type": "stream",
     "text": [
      "Overment to pseudonim Adama.\n"
     ]
    }
   ],
   "source": [
    "loader = TextLoader('memory.md')\n",
    "doc = loader.load()\n",
    "chat = ChatOpenAI()\n",
    "\n",
    "response = chat.invoke([\n",
    "    SystemMessage(f\"Answer questions as truthfully using the context below and nothing more. If you don't know the answer, say \\\"don't know\\\".\\\n",
    "        context\\###${doc[0].page_content}###\"),\n",
    "    HumanMessage(\"Kim jest overment?\")\n",
    "])\n",
    "\n",
    "print(response.content)"
   ]
  }
 ],
 "metadata": {
  "kernelspec": {
   "display_name": "base",
   "language": "python",
   "name": "python3"
  },
  "language_info": {
   "codemirror_mode": {
    "name": "ipython",
    "version": 3
   },
   "file_extension": ".py",
   "mimetype": "text/x-python",
   "name": "python",
   "nbconvert_exporter": "python",
   "pygments_lexer": "ipython3",
   "version": "3.9.16"
  }
 },
 "nbformat": 4,
 "nbformat_minor": 2
}
