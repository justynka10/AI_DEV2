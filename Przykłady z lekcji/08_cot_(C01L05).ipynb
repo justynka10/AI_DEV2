{
 "cells": [
  {
   "cell_type": "code",
   "execution_count": 1,
   "metadata": {},
   "outputs": [],
   "source": [
    "from dotenv import load_dotenv\n",
    "load_dotenv(override=True)\n",
    "\n",
    "from langchain.chains import LLMChain\n",
    "from langchain_openai import ChatOpenAI\n",
    "from langchain.schema import SystemMessage, HumanMessage"
   ]
  },
  {
   "cell_type": "markdown",
   "metadata": {},
   "source": [
    "<b>Chain of Thought (CoT)</b> polega na prowadzeniu modelu przez ciąg myślowy z pomocą wiedzy dostarczonej przez nas lub wygenerowanej przez model. Przykładowo szukając odpowiedzi na nasze pytanie, możemy opisać sytuację w której się znajdujemy oraz kroki, które już podjęliśmy.\n",
    "\n",
    "Przykład z działaniem matematycznym:"
   ]
  },
  {
   "cell_type": "code",
   "execution_count": 2,
   "metadata": {},
   "outputs": [
    {
     "name": "stdout",
     "output_type": "stream",
     "text": [
      "Zero Shot: 2971 Failed 🙁\n",
      "Chain of Thought: 2967 Passed\n",
      "\n",
      "---------------\n",
      " Aby rozwiązać ten problem matematyczny, musisz najpierw wykonać mnożenie, a potem odejmowanie. To jest zgodne z kolejnością działań w matematyce, znaną jako nawiasy, wykładniki, mnożenie i dzielenie (od lewej do prawej), dodawanie i odejmowanie (od lewej do prawej), często skracane do akronimu PEMDAS w języku angielskim.\n",
      "\n",
      "Pierwszym krokiem jest więc wykonanie mnożenia, czyli 48*62. Wynik tego mnożenia to 2976.\n",
      "\n",
      "Następnie musisz odjąć 9 od wyniku mnożenia. Czyli 2976 - 9. Wynik tego działania to 2967.\n",
      "\n",
      "Więc odpowiedzią na problem 48*62-9 jest 2967.\n",
      "\n"
     ]
    }
   ],
   "source": [
    "chat = ChatOpenAI(\n",
    "    model='gpt-4'\n",
    ")\n",
    "\n",
    "zero_shot = chat.invoke([\n",
    "    SystemMessage('Odpowiedz na pytanie bardzo krótko:'),\n",
    "    HumanMessage('48*62-9'),\n",
    "])\n",
    "\n",
    "cot = chat.invoke([\n",
    "    SystemMessage('''Weź głęboki oddech i odpowiedz na pytanie, starannie wyjaśniając swoją logikę krok po kroku.\n",
    "        Następnie dodaj separator: \\n### i odpowiedz na pytanie ultrakrótko, używając liczby pojedynczej:'''),\n",
    "    HumanMessage('48*62-9'),\n",
    "])\n",
    "\n",
    "if isinstance(zero_shot.content, str) & isinstance(cot.content, str):\n",
    "    cot_answer = (cot.content).split(\"\\n###\")[1]\n",
    "    cot_thoughts = (cot.content).split(\"\\n###\")[0]\n",
    "    print(f\"Zero Shot: {int(zero_shot.content)}\", \"Passed\" if int(zero_shot.content) == 2967  else \"Failed 🙁\")\n",
    "    print(f\"Chain of Thought: {int(cot_answer)}\", \"Passed\" if int(cot_answer) == 2967  else \"Failed 🙁\")\n",
    "    print(\"\\n---------------\\n\", cot_thoughts)"
   ]
  }
 ],
 "metadata": {
  "kernelspec": {
   "display_name": "base",
   "language": "python",
   "name": "python3"
  },
  "language_info": {
   "codemirror_mode": {
    "name": "ipython",
    "version": 3
   },
   "file_extension": ".py",
   "mimetype": "text/x-python",
   "name": "python",
   "nbconvert_exporter": "python",
   "pygments_lexer": "ipython3",
   "version": "3.9.16"
  }
 },
 "nbformat": 4,
 "nbformat_minor": 2
}
