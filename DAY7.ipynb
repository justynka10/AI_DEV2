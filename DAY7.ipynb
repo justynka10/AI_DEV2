{
 "cells": [
  {
   "cell_type": "markdown",
   "metadata": {},
   "source": [
    "## Przykłady"
   ]
  },
  {
   "cell_type": "markdown",
   "metadata": {},
   "source": [
    "### Przykład 9 - zewnętrzny, dynamiczny kontekst"
   ]
  },
  {
   "cell_type": "code",
   "execution_count": 56,
   "metadata": {},
   "outputs": [
    {
     "name": "stdout",
     "output_type": "stream",
     "text": [
      "Overment to pseudonim Adama.\n"
     ]
    }
   ],
   "source": [
    "from langchain_community.document_loaders import TextLoader\n",
    "from langchain_openai import ChatOpenAI\n",
    "from langchain.schema import SystemMessage, HumanMessage\n",
    "\n",
    "loader = TextLoader('DAY7-pliki/adam.md')\n",
    "doc = loader.load()\n",
    "chat = ChatOpenAI()\n",
    "\n",
    "#print(doc[0])\n",
    "response = chat.invoke([\n",
    "    SystemMessage(f\"Answer questions as truthfully using the context below and nothing more. If you don't know the answer, say \\\"don't know\\\".\\\n",
    "        context\\###${doc[0].page_content}###\"),\n",
    "    HumanMessage(\"Kim jest overment?\")\n",
    "])\n",
    "\n",
    "print(response.content)"
   ]
  },
  {
   "cell_type": "markdown",
   "metadata": {},
   "source": [
    "### Przykład 10 - wybór źródła wiedzy na podstawie prompta"
   ]
  },
  {
   "cell_type": "code",
   "execution_count": 74,
   "metadata": {},
   "outputs": [
    {
     "name": "stdout",
     "output_type": "stream",
     "text": [
      "DAY7-pliki/mateusz.md\n"
     ]
    }
   ],
   "source": [
    "from langchain_openai import ChatOpenAI\n",
    "from langchain.schema import SystemMessage\n",
    "\n",
    "chat = ChatOpenAI()\n",
    "question = \"Czy MC ma psa?\"\n",
    "sources = [\n",
    "    {\"name\": \"Adam (overment)\", \"source\": \"DAY7-pliki/adam.md\"},\n",
    "    {\"name\": \"Jakub (unknown)\", \"source\": \"DAY7-pliki/jakub.md\"},\n",
    "    {\"name\": \"Mateusz (MC)\", \"source\": \"DAY7-pliki/mateusz.md\"},\n",
    "]\n",
    "sources_list = [f\"{s['name']} file:{s['source']}\" for s in sources]\n",
    "sources_str = '\\n'.join(sources_list)\n",
    "\n",
    "source = chat.invoke([\n",
    "    SystemMessage(f\"\"\"Pick one of the following sources related to the query and return filename and nothing else.\n",
    "        Sources###\n",
    "        {sources_str}\n",
    "        ###\n",
    "        Query: {question}\\n\\n\n",
    "        Source file name:\"\"\")\n",
    "])\n",
    "\n",
    "print(source.content)"
   ]
  },
  {
   "cell_type": "markdown",
   "metadata": {},
   "source": [
    "### Przykład 11 - tworzenie dokumentów na podstawie fragmentów plików (ang.chunk)"
   ]
  },
  {
   "cell_type": "code",
   "execution_count": 90,
   "metadata": {},
   "outputs": [
    {
     "ename": "TypeError",
     "evalue": "__init__() got an unexpected keyword argument 'encoding'",
     "output_type": "error",
     "traceback": [
      "\u001b[1;31m---------------------------------------------------------------------------\u001b[0m",
      "\u001b[1;31mTypeError\u001b[0m                                 Traceback (most recent call last)",
      "Cell \u001b[1;32mIn[90], line 37\u001b[0m\n\u001b[0;32m     35\u001b[0m \u001b[38;5;28;01mtry\u001b[39;00m:\n\u001b[0;32m     36\u001b[0m     \u001b[38;5;28;01mwith\u001b[39;00m \u001b[38;5;28mopen\u001b[39m(\u001b[38;5;124m\"\u001b[39m\u001b[38;5;124mDAY7-pliki/docs.json\u001b[39m\u001b[38;5;124m\"\u001b[39m, \u001b[38;5;124m\"\u001b[39m\u001b[38;5;124mw\u001b[39m\u001b[38;5;124m\"\u001b[39m) \u001b[38;5;28;01mas\u001b[39;00m file:\n\u001b[1;32m---> 37\u001b[0m         \u001b[43mjson\u001b[49m\u001b[38;5;241;43m.\u001b[39;49m\u001b[43mdump\u001b[49m\u001b[43m(\u001b[49m\u001b[43mdocuments_dict\u001b[49m\u001b[43m,\u001b[49m\u001b[43m \u001b[49m\u001b[43mfile\u001b[49m\u001b[43m,\u001b[49m\u001b[43m \u001b[49m\u001b[43mencoding\u001b[49m\u001b[38;5;241;43m=\u001b[39;49m\u001b[38;5;124;43m'\u001b[39;49m\u001b[38;5;124;43mutf-8\u001b[39;49m\u001b[38;5;124;43m'\u001b[39;49m\u001b[43m,\u001b[49m\u001b[43m \u001b[49m\u001b[43mindent\u001b[49m\u001b[38;5;241;43m=\u001b[39;49m\u001b[38;5;241;43m1\u001b[39;49m\u001b[43m)\u001b[49m\n\u001b[0;32m     38\u001b[0m \u001b[38;5;28;01mexcept\u001b[39;00m \u001b[38;5;167;01mFileNotFoundError\u001b[39;00m:\n\u001b[0;32m     39\u001b[0m     \u001b[38;5;28mprint\u001b[39m(\u001b[38;5;124m\"\u001b[39m\u001b[38;5;124mNie znaleziono katalogu \u001b[39m\u001b[38;5;124m'\u001b[39m\u001b[38;5;124mDAY7-pliki\u001b[39m\u001b[38;5;124m'\u001b[39m\u001b[38;5;124m. Upewnij się, że katalog istnieje.\u001b[39m\u001b[38;5;124m\"\u001b[39m)\n",
      "File \u001b[1;32mc:\\Users\\justy\\miniconda3\\lib\\json\\__init__.py:173\u001b[0m, in \u001b[0;36mdump\u001b[1;34m(obj, fp, skipkeys, ensure_ascii, check_circular, allow_nan, cls, indent, separators, default, sort_keys, **kw)\u001b[0m\n\u001b[0;32m    171\u001b[0m     \u001b[38;5;28;01mif\u001b[39;00m \u001b[38;5;28mcls\u001b[39m \u001b[38;5;129;01mis\u001b[39;00m \u001b[38;5;28;01mNone\u001b[39;00m:\n\u001b[0;32m    172\u001b[0m         \u001b[38;5;28mcls\u001b[39m \u001b[38;5;241m=\u001b[39m JSONEncoder\n\u001b[1;32m--> 173\u001b[0m     iterable \u001b[38;5;241m=\u001b[39m \u001b[38;5;28mcls\u001b[39m(skipkeys\u001b[38;5;241m=\u001b[39mskipkeys, ensure_ascii\u001b[38;5;241m=\u001b[39mensure_ascii,\n\u001b[0;32m    174\u001b[0m         check_circular\u001b[38;5;241m=\u001b[39mcheck_circular, allow_nan\u001b[38;5;241m=\u001b[39mallow_nan, indent\u001b[38;5;241m=\u001b[39mindent,\n\u001b[0;32m    175\u001b[0m         separators\u001b[38;5;241m=\u001b[39mseparators,\n\u001b[0;32m    176\u001b[0m         default\u001b[38;5;241m=\u001b[39mdefault, sort_keys\u001b[38;5;241m=\u001b[39msort_keys, \u001b[38;5;241m*\u001b[39m\u001b[38;5;241m*\u001b[39mkw)\u001b[38;5;241m.\u001b[39miterencode(obj)\n\u001b[0;32m    177\u001b[0m \u001b[38;5;66;03m# could accelerate with writelines in some versions of Python, at\u001b[39;00m\n\u001b[0;32m    178\u001b[0m \u001b[38;5;66;03m# a debuggability cost\u001b[39;00m\n\u001b[0;32m    179\u001b[0m \u001b[38;5;28;01mfor\u001b[39;00m chunk \u001b[38;5;129;01min\u001b[39;00m iterable:\n",
      "\u001b[1;31mTypeError\u001b[0m: __init__() got an unexpected keyword argument 'encoding'"
     ]
    }
   ],
   "source": [
    "import os\n",
    "import json\n",
    "from langchain_community.document_loaders import TextLoader\n",
    "from langchain_openai import ChatOpenAI\n",
    "from langchain.schema import SystemMessage, HumanMessage\n",
    "from langchain.docstore.document import Document\n",
    "\n",
    "loader = TextLoader('DAY7-pliki/docs.md')\n",
    "doc = loader.load()\n",
    "\n",
    "# podział pliku na dokumenty według podwójnego znkau nwoej linii\n",
    "documents = [Document(page_content=content) for content in doc[0].page_content.split(\"\\n\\n\")]\n",
    "\n",
    "# przetworzenie dokumentów promptem opisującym ich źródło (w tym przypadku jest to wybór imienia osoby, z którą powiązany jest dany dokument)\n",
    "model = ChatOpenAI()\n",
    "\n",
    "system_message = SystemMessage('''Describe the following document with one of the following keywords:\n",
    "            Mateusz, Jakub, Adam. Return the keyword and nothing else.''')\n",
    "\n",
    "descriptions = []\n",
    "for document in documents:\n",
    "    description = chat.invoke([\n",
    "        system_message,\n",
    "        HumanMessage(f\"{document.page_content}\")\n",
    "    ])\n",
    "    descriptions.append(description.content)\n",
    "\n",
    "for index, description in enumerate(descriptions):\n",
    "    # Zaktualizuj 'source' w 'metadata' odpowiedniego dokumentu za pomocą opisu\n",
    "    documents[index].metadata['source'] = description\n",
    "\n",
    "# Przekształć listę obiektów 'documents' na listę słowników\n",
    "documents_dict = [{\"page_content\": doc.page_content, \"metadata\": doc.metadata} for doc in documents]\n",
    "\n",
    "try:\n",
    "    with open(\"DAY7-pliki/docs.json\", \"w\", encoding='utf8') as file:\n",
    "        json.dump(documents_dict, file, indent=1)\n",
    "except FileNotFoundError:\n",
    "    print(\"Nie znaleziono katalogu 'DAY7-pliki'. Upewnij się, że katalog istnieje.\")"
   ]
  }
 ],
 "metadata": {
  "kernelspec": {
   "display_name": "base",
   "language": "python",
   "name": "python3"
  },
  "language_info": {
   "name": "python",
   "version": "3.9.16"
  }
 },
 "nbformat": 4,
 "nbformat_minor": 2
}
