{
 "cells": [
  {
   "cell_type": "code",
   "execution_count": 1,
   "metadata": {},
   "outputs": [],
   "source": [
    "from utilities.task_service import get_authentication_token, get_task, send_answer\n",
    "from auth import apikey\n",
    "from openai import OpenAI # to zadanie z przyzwyczajenia zrobiłam bezpośrednio w OpenAI a nie w LangChain\n",
    "\n",
    "from dotenv import load_dotenv\n",
    "load_dotenv(override=True)\n",
    "\n",
    "task_name = \"blogger\"\n",
    "client = OpenAI()"
   ]
  },
  {
   "cell_type": "code",
   "execution_count": 2,
   "metadata": {},
   "outputs": [
    {
     "name": "stdout",
     "output_type": "stream",
     "text": [
      "Otrzymano token\n"
     ]
    }
   ],
   "source": [
    "# autoryzacja\n",
    "token = get_authentication_token(apikey, task_name)\n",
    "if token:\n",
    "    print(\"Otrzymano token\")\n",
    "else:\n",
    "    print(\"Nie udało się uzyskać tokenu.\")"
   ]
  },
  {
   "cell_type": "code",
   "execution_count": 3,
   "metadata": {},
   "outputs": [
    {
     "name": "stdout",
     "output_type": "stream",
     "text": [
      "Odpowiedź z serwera: {'code': 0, 'msg': 'please write blog post for the provided outline', 'blog': ['Wstęp: kilka słów na temat historii pizzy', 'Niezbędne składniki na pizzę', 'Robienie pizzy', 'Pieczenie pizzy w piekarniku']}\n"
     ]
    }
   ],
   "source": [
    "# pobranie danych do zadania\n",
    "response = get_task(token)\n",
    "if response:\n",
    "    print(\"Odpowiedź z serwera:\", response)\n",
    "else:\n",
    "    print(\"Wystąpił błąd podczas wysyłania zapytania.\")"
   ]
  },
  {
   "cell_type": "code",
   "execution_count": 4,
   "metadata": {},
   "outputs": [
    {
     "name": "stdout",
     "output_type": "stream",
     "text": [
      "['Wstęp: kilka słów na temat historii pizzy', 'Niezbędne składniki na pizzę', 'Robienie pizzy', 'Pieczenie pizzy w piekarniku']\n"
     ]
    }
   ],
   "source": [
    "print(response['blog'])"
   ]
  },
  {
   "cell_type": "code",
   "execution_count": 5,
   "metadata": {},
   "outputs": [],
   "source": [
    "def text_generator(context, prompt):\n",
    "    completion = client.chat.completions.create(\n",
    "            model=\"gpt-4\",\n",
    "            temperature = 0.7,\n",
    "            messages=[\n",
    "                    {\"role\": \"system\", \"content\": context},\n",
    "                    {\"role\": \"user\", \"content\": prompt}\n",
    "                ]\n",
    "            )\n",
    "    return completion.choices[0].message.content"
   ]
  },
  {
   "cell_type": "code",
   "execution_count": 6,
   "metadata": {},
   "outputs": [],
   "source": [
    "article = []\n",
    "section_done = []\n",
    "\n",
    "context = \"\"\"You are an assistant to create articles for the website. You don't create the whole article right away, but the user sends you the headline of the section to write, and you create it.In addition, the user sends you a list of headings from the article that have already been written. Don't duplicate the information they focused on. Some tips you should follow:\n",
    "    - focus on creating content that is valuable and well thought out;\n",
    "    - avoid plagiarism and be creative. Create unique content that will make your text stand out;\n",
    "    - learn the basics of search engine optimization (SEO) and skillfully use keywords to increase your content's visibility in search results;\n",
    "    - when writing, be clear and concise. Avoid unnecessary words and complex sentence constructions that can put off readers;\n",
    "    - use bullets and highlighting to make your content easier to read and navigate. Good structure helps readers quickly find what they are looking for;\n",
    "    - encourage interaction through questions or calls to action; \n",
    "    - use a friendly, conversational tone;\"\"\"\n",
    "\n",
    "for section in response['blog']:\n",
    "    prompt = f\"Stwórz treść sekcji: {section}. Rozwinąłeś już wcześniej takie sekcje: {section_done}.\"\n",
    "\n",
    "    section_text = text_generator(context, prompt)\n",
    "    section_done.append(section)\n",
    "    article.append(section_text)"
   ]
  },
  {
   "cell_type": "code",
   "execution_count": 7,
   "metadata": {},
   "outputs": [
    {
     "name": "stdout",
     "output_type": "stream",
     "text": [
      "Odpowiedź z serwera: {'code': 0, 'msg': 'OK', 'note': 'CORRECT'}\n"
     ]
    }
   ],
   "source": [
    "# wysłanie odpowiedzi\n",
    "response = send_answer(token, article)\n",
    "if response:\n",
    "    print(\"Odpowiedź z serwera:\", response)\n",
    "else:\n",
    "    print(\"Wystąpił błąd podczas wysyłania odpowiedzi.\")"
   ]
  },
  {
   "cell_type": "code",
   "execution_count": 9,
   "metadata": {},
   "outputs": [
    {
     "name": "stdout",
     "output_type": "stream",
     "text": [
      "Wstęp: Kilka Słów na Temat Historii Pizzy\n",
      "\n",
      "Chyba nie ma osoby, która nie słyszałaby o pizzy, tym kulinarnym fenomenie, który zdobył serca (i żołądki) ludzi na całym świecie. Ale czy kiedykolwiek zastanawialiście się, skąd wzięło się to wyjątkowe danie? Cóż, zanurzmy się w fascynującą historię pizzy, pełną smaku, tradycji i... nieco kontrowersji.\n",
      "\n",
      "Pierwsze wzmianki na temat pizzy sięgają starożytnego Egiptu i Grecji, gdzie piekło się chleby płaskie, podobne do dzisiejszych pizz, choć oczywiście bez charakterystycznych dodatków, które znamy dzisiaj. Prawdziwą pizzę, jaką znamy, narodził się jednak w Neapolu, we Włoszech, gdzie w XVIII wieku prosti ludzie zaczęli dodawać do swoich chlebów płaskich pomidory - owoc, który wówczas był w Europie nowością.\n",
      "\n",
      "Prawdziwy przełom w historii pizzy nastąpił w XIX wieku, kiedy to Raffaele Esposito, znany neapolitański piekarz, stworzył pizzę Margheritę na cześć królowej Margherity. Ta prosta pizza, składająca się z pomidorów, mozzarelli i bazylii, stała się symbolem włoskiej kuchni.\n",
      "\n",
      "Od tamtego czasu pizza zasłynęła na całym świecie, zyskując miliony fanów i stając się jednym z najbardziej popularnych dań na świecie. Bez względu na to, czy jesteś fanem pizzy hawajskiej, margherity, czy pizzy pełnej różnorodnych dodatków - pamiętaj, że każde z tych dań ma swoje korzenie w starożytnej historii i tradycji. \n",
      "\n",
      "Więc następnym razem, kiedy będziesz cieszyć się plackiem pizzy, poświęć chwilę na zastanowienie się nad tym, jak daleko to danie przyszło, aby trafić na Twoją talerz. Czyż to nie jest fascynujące? Co myślisz o historii pizzy? Podziel się swoimi przemyśleniami w komentarzach poniżej! ## Niezbędne Składniki na Pizzę \n",
      "\n",
      "Pizza to nie tylko pyszny i popularny na całym świecie przysmak, ale także sztuka kulinarna, której sekret tkwi w odpowiednich składnikach. Poniżej znajdą Państwo listę niezbędnych składników, które pozwolą na stworzenie domowej pizzy, która zaspokoi smak najbardziej wybrednych koneserów.\n",
      "\n",
      "1. **Ciasto na pizzę**: Podstawą każdej pizzy jest ciasto. Tradycyjne ciasto na pizzę wymaga tylko czterech składników: mąki, wody, drożdży i soli. \n",
      "\n",
      "2. **Sos Pomidorowy**: Drugim kluczowym składnikiem jest sos pomidorowy. Można go zrobić samodzielnie, mieszając pomidory, czosnek, bazylia, sól i pieprz, lub kupić gotowy w sklepie.\n",
      "\n",
      "3. **Ser Mozzarella**: Bez sera pizza nie byłaby sobą. Tradycyjnie używa się sera mozzarella, ale jeśli wolisz inny rodzaj sera, śmiało możesz go użyć.\n",
      "\n",
      "4. **Dodatki**: O wyjątkowości pizzy decydują dodatki. Tu już pole do popisu jest ogromne - od tradycyjnej szynki, salami, czy pieczarek, aż po bardziej egzotyczne dodatki jak ananas, figi, czy krewetki. \n",
      "\n",
      "5. **Zioła i Przyprawy**: Aby nadać pizzy prawdziwego, włoskiego charakteru, nie zapomnij o ziołach - oregano, bazylia czy tymianek to tylko niektóre z nich.\n",
      "\n",
      "Jak widać, stworzenie pizzy w domu nie jest skomplikowane i nie wymaga specjalistycznych składników. Pamiętaj jednak, że tajemnicą doskonałej pizzy jest jakość składników, dlatego zawsze wybieraj te najświeższe i najwyższej jakości. \n",
      "\n",
      "A jakie są Wasze ulubione składniki na pizzę? Czy macie jakieś sekretne dodatki, które zawsze dodajecie do swojej pizzy? Podzielcie się swoimi pomysłami w komentarzach poniżej! ## Robienie pizzy: krok po kroku\n",
      "\n",
      "Czy kiedykolwiek marzyłeś o stworzeniu własnej, domowej pizzy, która smakuje jak ta prosto z włoskiej pizzerii? Jeżeli tak, to dobrze trafiłeś! W tym rozdziale pokażemy Ci, jak krok po kroku przygotować pyszną pizzę. \n",
      "\n",
      "### Przygotuj ciasto\n",
      "\n",
      "Pierwszym krokiem jest wyrobienie ciasta. W składniki, które zapewne już przygotowałeś (zgodnie z poprzednią sekcją), dodaj ciepłą wodę i wymieszaj wszystko razem. Następnie ugniataj ciasto, aż stanie się elastyczne. Pamiętaj, aby nie przesadzić z ilością mąki, bo ciasto może stać się za twarde. \n",
      "\n",
      "### Pozwól ciastu wyrosnąć\n",
      "\n",
      "Po ugnieceniu ciasta, umieść je w ciepłym miejscu i pozwól mu wyrosnąć. Ten proces może potrwać od 1 do 2 godzin. Dzięki temu twoje ciasto na pizzę będzie lekkie i puszyste.\n",
      "\n",
      "### Przygotuj sos i dodatki\n",
      "\n",
      "Podczas gdy ciasto rośnie, przygotuj sos pomidorowy i dodatki. Sos możesz przygotować z dobrej jakości konserwowanych pomidorów, czosnku, bazylii i oliwy z oliwek. Co do dodatków, wybór należy do ciebie. Możesz wybrać tradycyjne składniki, takie jak mozzarella, bazylia i szynka, albo eksperymentować z bardziej egzotycznymi składnikami.\n",
      "\n",
      "### Uformuj ciasto i dodaj składniki\n",
      "\n",
      "Po wyrośnięciu ciasta, ugniataj je na blacie posypanym mąką, aż uzyska pożądaną grubość. Następnie nałóż sos, dodaj ulubione składniki i posyp serem.\n",
      "\n",
      "### Pieczenie \n",
      "\n",
      "Ostatnim krokiem jest pieczenie pizzy. Najlepsze efekty osiągniesz, piekąc pizzę w bardzo gorącym piecu. Jeżeli twój piekarnik ma funkcję grilla, użyj jej pod koniec pieczenia, aby nadać pizzy złotego koloru.\n",
      "\n",
      "Teraz, kiedy wiesz, jak zrobić pizzę krok po kroku, jesteś gotowy, aby zaimponować swoim gościom domowym włoskim specjałem. Pamiętaj, praktyka czyni mistrza, więc nie zniechęcaj się, jeżeli twoja pierwsza pizza nie będzie idealna. Smacznego!\n",
      "\n",
      "A Ty, jakie dodatki najbardziej lubisz na pizzy? Podziel się swoją ulubioną kombinacją w komentarzach poniżej! **Pieczenie pizzy w piekarniku**\n",
      "\n",
      "Zakładam, że już przebrnęliśmy przez proces przygotowania idealnej pizzy, od poznania jej historii, przez zebranie niezbędnych składników, aż do stworzenia własnego dzieła sztuki kulinarnych. Teraz nadszedł czas na ostatni, ale nie mniej istotny krok - pieczenie pizzy w piekarniku. \n",
      "\n",
      "Pierwszym krokiem jest oczywiście rozgrzanie piekarnika. Idealna temperatura do pieczenia pizzy to około 250 stopni Celsjusza. Jeżeli twój piekarnik posiada funkcję 'grill', możesz ją również użyć - pozwoli to na równomiernie zarumienioną skórkę pizzy. \n",
      "\n",
      "Podczas pieczenia, kluczowe jest aby obserwować swoje dzieło. Czas pieczenia może wahać się w zależności od wielu czynników, takich jak grubość ciasta czy ilość i rodzaj składników. Zwykle jednak, pizza powinna być gotowa po około 10-15 minutach. \n",
      "\n",
      "Poniżej przedstawiam kilka dodatkowych wskazówek na temat pieczenia pizzy w piekarniku:\n",
      "\n",
      "- **Użyj kamienia do pizzy:** Kamień do pizzy pomaga utrzymać równomierną temperaturę, co jest kluczowe dla uzyskania idealnie chrupiącego spodu.\n",
      "\n",
      "- **Monitoruj proces pieczenia:** Każda pizza jest inna i wymaga indywidualnego podejścia. Nie ma jednego uniwersalnego czasu pieczenia - obserwuj swoją pizzę i reaguj w zależności od jej wyglądu.\n",
      "\n",
      "- **Ostrożnie z dodatkami:** Pamiętaj, że niektóre składniki, jak na przykład świeże zioła, dodajemy dopiero po upieczeniu pizzy. Inne, jak ser, mogą potrzebować mniej czasu w piekarniku. Staraj się dostosować czas pieczenia do składników, które wybrałeś.\n",
      "\n",
      "A jakie są wasze doświadczenia z pieczeniem pizzy w piekarniku? Czy macie swoje ulubione triki, które pomagają Wam stworzyć idealną pizzę? Zapraszam do dyskusji w komentarzach!\n"
     ]
    }
   ],
   "source": [
    "print(*article)"
   ]
  },
  {
   "cell_type": "code",
   "execution_count": null,
   "metadata": {},
   "outputs": [],
   "source": []
  }
 ],
 "metadata": {
  "kernelspec": {
   "display_name": "base",
   "language": "python",
   "name": "python3"
  },
  "language_info": {
   "codemirror_mode": {
    "name": "ipython",
    "version": 3
   },
   "file_extension": ".py",
   "mimetype": "text/x-python",
   "name": "python",
   "nbconvert_exporter": "python",
   "pygments_lexer": "ipython3",
   "version": "3.9.16"
  }
 },
 "nbformat": 4,
 "nbformat_minor": 2
}
