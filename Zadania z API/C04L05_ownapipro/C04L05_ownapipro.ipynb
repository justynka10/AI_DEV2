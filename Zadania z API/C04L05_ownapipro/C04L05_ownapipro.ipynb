{
 "cells": [
  {
   "cell_type": "code",
   "execution_count": 21,
   "metadata": {},
   "outputs": [],
   "source": [
    "import sys\n",
    "sys.path.append('../')\n",
    "from utilities.task_service import get_authentication_token, get_task, send_answer\n",
    "from auth import apikey\n",
    "\n",
    "task_name = \"ownapipro\""
   ]
  },
  {
   "cell_type": "code",
   "execution_count": 22,
   "metadata": {},
   "outputs": [
    {
     "name": "stdout",
     "output_type": "stream",
     "text": [
      "Otrzymano token.\n"
     ]
    }
   ],
   "source": [
    "# autoryzacja\n",
    "\n",
    "token = get_authentication_token(apikey, task_name)\n",
    "if token:\n",
    "    print(\"Otrzymano token.\")\n",
    "else:\n",
    "    print(\"Nie udało się uzyskać tokenu.\")"
   ]
  },
  {
   "cell_type": "code",
   "execution_count": 23,
   "metadata": {},
   "outputs": [
    {
     "name": "stdout",
     "output_type": "stream",
     "text": [
      "Odpowiedź z serwera: {'code': 0, 'msg': 'Provide me the URL to your API (HTTPS) via /answer/ endpoint. I will speak to your assistant for a moment', 'hint1': 'I will sent data as JSON, and my question would be inside \"question\" field', 'hint2': 'You have to remember information about previous questions, because I will ask you about them and I will expect correct answers', 'hint3': 'Please return the answer in JSON format, with \"reply\" field!'}\n"
     ]
    }
   ],
   "source": [
    "# pobranie danych do zadania\n",
    "\n",
    "response = get_task(token)\n",
    "if response:\n",
    "    print(\"Odpowiedź z serwera:\", response)\n",
    "else:\n",
    "    print(\"Wystąpił błąd podczas wysyłania zapytania.\")"
   ]
  },
  {
   "cell_type": "code",
   "execution_count": 24,
   "metadata": {},
   "outputs": [],
   "source": [
    "api_url = \"https://f511-109-231-6-52.ngrok-free.app/\""
   ]
  },
  {
   "cell_type": "code",
   "execution_count": 25,
   "metadata": {},
   "outputs": [
    {
     "name": "stdout",
     "output_type": "stream",
     "text": [
      "Odpowiedź z serwera: {'code': 0, 'msg': 'OK', 'note': 'CORRECT'}\n"
     ]
    }
   ],
   "source": [
    "# wysłanie odpowiedzi\n",
    "\n",
    "response_answ = send_answer(token, api_url)\n",
    "if response_answ:\n",
    "    print(\"Odpowiedź z serwera:\", response_answ)\n",
    "else:\n",
    "    print(\"Wystąpił błąd podczas wysyłania odpowiedzi.\")"
   ]
  },
  {
   "cell_type": "markdown",
   "metadata": {},
   "source": [
    "Odpytania API:\n",
    "```\n",
    "Request JSON data: {'question': 'Cześć, mam na imię\\xa0Stefan'}\n",
    "User question is:  Cześć, mam na imię Stefan\n",
    "Answer to user question is Cześć, Stefan! Jak mogę Ci pomóc dzisiaj?\n",
    "127.0.0.1 - - [18/Apr/2024 11:32:29] \"POST / HTTP/1.1\" 200 -\n",
    "Request JSON data: {'question': 'Jak mam na imię?'}\n",
    "User question is:  Jak mam na imię?\n",
    "Answer to user question is Twoje imię to Stefan.\n",
    "127.0.0.1 - - [18/Apr/2024 11:32:30] \"POST / HTTP/1.1\" 200 -\n",
    "Request JSON data: {'question': 'Urodziłem się w 1951 roku'}\n",
    "User question is:  Urodziłem się w 1951 roku\n",
    "Answer to user question is Bardzo ciekawe! Urodziłeś się więc w roku, kiedy rozpoczęto budowę Zamku Królewskiego w Warszawie. Jak mogę Ci teraz pomóc, Stefan?\n",
    "127.0.0.1 - - [18/Apr/2024 11:32:34] \"POST / HTTP/1.1\" 200 -\n",
    "Request JSON data: {'question': 'W którym roku się urodziłem?'}\n",
    "User question is:  W którym roku się urodziłem?\n",
    "Answer to user question is Urodziłeś się w 1951 roku.\n",
    "127.0.0.1 - - [18/Apr/2024 11:32:35] \"POST / HTTP/1.1\" 200 -\n",
    "Request JSON data: {'question': 'Co jest większe kot domowy, czy delfin?'}\n",
    "User question is:  Co jest większe kot domowy, czy delfin?\n",
    "Answer to user question is Delfin jest większy niż kot domowy. Średnia długość delfina butlonosego, jednego z najczęściej spotykanych gatunków delfinów, wynosi około 2-4 metry, podczas gdy średnia długość kota domowego to zaledwie około 46 cm.\n",
    "```"
   ]
  }
 ],
 "metadata": {
  "kernelspec": {
   "display_name": "base",
   "language": "python",
   "name": "python3"
  },
  "language_info": {
   "codemirror_mode": {
    "name": "ipython",
    "version": 3
   },
   "file_extension": ".py",
   "mimetype": "text/x-python",
   "name": "python",
   "nbconvert_exporter": "python",
   "pygments_lexer": "ipython3",
   "version": "3.9.16"
  }
 },
 "nbformat": 4,
 "nbformat_minor": 2
}
