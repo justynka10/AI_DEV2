{
 "cells": [
  {
   "cell_type": "code",
   "execution_count": 85,
   "metadata": {},
   "outputs": [],
   "source": [
    "from utilities.task_service import get_authentication_token, get_task, send_answer\n",
    "from auth import apikey\n",
    "import requests\n",
    "# import json\n",
    "\n",
    "from langchain_openai import ChatOpenAI\n",
    "from langchain.schema import SystemMessage, HumanMessage\n",
    "\n",
    "from dotenv import load_dotenv\n",
    "load_dotenv(override=True)\n",
    "\n",
    "task_name = \"knowledge\""
   ]
  },
  {
   "cell_type": "code",
   "execution_count": 86,
   "metadata": {},
   "outputs": [
    {
     "name": "stdout",
     "output_type": "stream",
     "text": [
      "Otrzymano token.\n"
     ]
    }
   ],
   "source": [
    "# autoryzacja\n",
    "\n",
    "token = get_authentication_token(apikey, task_name)\n",
    "if token:\n",
    "    print(\"Otrzymano token.\")\n",
    "else:\n",
    "    print(\"Nie udało się uzyskać tokenu.\")"
   ]
  },
  {
   "cell_type": "code",
   "execution_count": 87,
   "metadata": {},
   "outputs": [
    {
     "name": "stdout",
     "output_type": "stream",
     "text": [
      "Odpowiedź z serwera: {'code': 0, 'msg': 'I will ask you a question about the exchange rate, the current population or general knowledge. Decide whether you will take your knowledge from external sources or from the knowledge of the model', 'question': 'ile orientacyjnie ludzi mieszka w Polsce?', 'database #1': 'Currency http://api.nbp.pl/en.html (use table A)', 'database #2': \"Knowledge about countries https://restcountries.com/ - field 'population'\"}\n"
     ]
    }
   ],
   "source": [
    "# pobranie danych do zadania\n",
    "\n",
    "response = get_task(token)\n",
    "if response:\n",
    "    print(\"Odpowiedź z serwera:\", response)\n",
    "else:\n",
    "    print(\"Wystąpił błąd podczas wysyłania zapytania.\")"
   ]
  },
  {
   "cell_type": "code",
   "execution_count": 88,
   "metadata": {},
   "outputs": [
    {
     "name": "stdout",
     "output_type": "stream",
     "text": [
      "Pytanie: ile orientacyjnie ludzi mieszka w Polsce?\n"
     ]
    }
   ],
   "source": [
    "print(f\"Pytanie: {response['question']}\")"
   ]
  },
  {
   "cell_type": "code",
   "execution_count": 89,
   "metadata": {},
   "outputs": [],
   "source": [
    "# wyciągnięcie populacji danego kraju\n",
    "def get_population_of_country(country):\n",
    "    try:\n",
    "        url = f\"https://restcountries.com/v3.1/name/{country}\"\n",
    "        response_country = requests.get(url)\n",
    "        response_country.raise_for_status()  # Sprawdza, czy odpowiedź jest sukcesem (status kod 2xx)\n",
    "        response_country = response_country.json()\n",
    "\n",
    "    except requests.exceptions.RequestException as e:\n",
    "        print(f\"Request error: {e}\")\n",
    "    \n",
    "    population = response_country[0]['population']\n",
    "    return population"
   ]
  },
  {
   "cell_type": "code",
   "execution_count": 90,
   "metadata": {},
   "outputs": [],
   "source": [
    "# pobranie danych o kursach wymiany walut\n",
    "try:\n",
    "    url = f\"http://api.nbp.pl/api/exchangerates/tables/a/\"\n",
    "    response_ex_rate = requests.get(url)\n",
    "    response_ex_rate.raise_for_status()  # Sprawdza, czy odpowiedź jest sukcesem (status kod 2xx)\n",
    "    response_ex_rate = response_ex_rate.json()\n",
    "\n",
    "except requests.exceptions.RequestException as e:\n",
    "    print(f\"Request error: {e}\")\n",
    "       "
   ]
  },
  {
   "cell_type": "code",
   "execution_count": 91,
   "metadata": {},
   "outputs": [
    {
     "name": "stdout",
     "output_type": "stream",
     "text": [
      "populacja_kraju\n"
     ]
    }
   ],
   "source": [
    "# znalezienie tematyki pytania\n",
    "chat = ChatOpenAI(\n",
    "    model='gpt-4'\n",
    ")\n",
    "\n",
    "question_info = chat.invoke([\n",
    "    SystemMessage(f\"\"\"Przypisz pytanie użytkownika do jednej z 3 kategorii: \"kursy_walut\", \"populacja_kraju\", \"wiedza_ogólna\".\n",
    "                   Zróć tylko tę kategorię. Na przykład:\n",
    "                  ###\n",
    "                  user: podaj populację Francji\n",
    "                  AI: populacja_kraju\n",
    "\n",
    "                  user: kto napisał Romeo i Julię?\n",
    "                  AI: wiedza_ogólna\n",
    "\n",
    "                  user: jaki jest dziś kurs dolara?\n",
    "                  AI: kursy_walut\n",
    "                  ###\n",
    "                  \"\"\"),\n",
    "    HumanMessage(f\"Pytanie: {response['question']}\")\n",
    "])\n",
    "\n",
    "tematyka = question_info.content\n",
    "print(tematyka)"
   ]
  },
  {
   "cell_type": "code",
   "execution_count": 92,
   "metadata": {},
   "outputs": [],
   "source": [
    "# odpowiedź w zależności od typu pytania\n",
    "\n",
    "if 'populacja_kraju' in tematyka:\n",
    "    # znalezienie kraju z pytania\n",
    "    country = chat.invoke([\n",
    "    SystemMessage(f\"\"\"Podaj anglojęzyczną nazwę kraju, który występuje w pytaniu. Zapisz ją małymi literami.\n",
    "                  ###\n",
    "                  user: podaj populację Francji\n",
    "                  AI: francja\n",
    "\n",
    "                  user: podaj populację Polski\n",
    "                  AI: poland\n",
    "                  ###\n",
    "                  \"\"\"),\n",
    "    HumanMessage(f\"Pytanie: {response['question']}\")\n",
    "    ]).content\n",
    "\n",
    "    # pobranie odpowiedzi\n",
    "    answer = get_population_of_country(country)\n",
    "\n",
    "elif 'kursy_walut' in tematyka:\n",
    "    answer = chat.invoke([\n",
    "    SystemMessage(f\"\"\"Odpowiedz na pytanie korzystając wyłącznie z kontekstu zamieszczonego poniżej.\n",
    "                  Kontekst:###\n",
    "                  {response_ex_rate}###\n",
    "                  \"\"\"),\n",
    "    HumanMessage(f\"Pytanie: {response['question']}\")\n",
    "    ]).content\n",
    "\n",
    "else:\n",
    "    answer = chat.invoke([\n",
    "    SystemMessage(f\"\"\"Odpowiedz na pytanie.\"\"\"),\n",
    "    HumanMessage(f\"Pytanie: {response['question']}\")\n",
    "    ]).content   "
   ]
  },
  {
   "cell_type": "code",
   "execution_count": 93,
   "metadata": {},
   "outputs": [
    {
     "name": "stdout",
     "output_type": "stream",
     "text": [
      "Odpowiedź z serwera: {'code': 0, 'msg': 'OK', 'note': 'CORRECT'}\n"
     ]
    }
   ],
   "source": [
    "# wysłanie odpowiedzi\n",
    "\n",
    "response = send_answer(token, answer)\n",
    "\n",
    "if response:\n",
    "    print(\"Odpowiedź z serwera:\", response)\n",
    "else:\n",
    "    print(\"Wystąpił błąd podczas wysyłania odpowiedzi.\")"
   ]
  },
  {
   "cell_type": "code",
   "execution_count": 94,
   "metadata": {},
   "outputs": [
    {
     "name": "stdout",
     "output_type": "stream",
     "text": [
      "37950802\n"
     ]
    }
   ],
   "source": [
    "print(answer)"
   ]
  }
 ],
 "metadata": {
  "kernelspec": {
   "display_name": "Python 3",
   "language": "python",
   "name": "python3"
  },
  "language_info": {
   "codemirror_mode": {
    "name": "ipython",
    "version": 3
   },
   "file_extension": ".py",
   "mimetype": "text/x-python",
   "name": "python",
   "nbconvert_exporter": "python",
   "pygments_lexer": "ipython3",
   "version": "3.10.11"
  }
 },
 "nbformat": 4,
 "nbformat_minor": 2
}
