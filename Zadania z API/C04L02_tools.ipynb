{
 "cells": [
  {
   "cell_type": "code",
   "execution_count": 98,
   "metadata": {},
   "outputs": [],
   "source": [
    "from utilities.task_service import get_authentication_token, get_task, send_answer\n",
    "from auth import apikey\n",
    "import requests\n",
    "import json\n",
    "\n",
    "from langchain_openai import ChatOpenAI\n",
    "from langchain.schema import HumanMessage, SystemMessage, BaseMessage\n",
    "\n",
    "from dotenv import load_dotenv\n",
    "load_dotenv(override=True)\n",
    "\n",
    "task_name = \"tools\""
   ]
  },
  {
   "cell_type": "code",
   "execution_count": 99,
   "metadata": {},
   "outputs": [
    {
     "name": "stdout",
     "output_type": "stream",
     "text": [
      "Otrzymano token.\n"
     ]
    }
   ],
   "source": [
    "# autoryzacja\n",
    "\n",
    "token = get_authentication_token(apikey, task_name)\n",
    "if token:\n",
    "    print(\"Otrzymano token.\")\n",
    "else:\n",
    "    print(\"Nie udało się uzyskać tokenu.\")"
   ]
  },
  {
   "cell_type": "code",
   "execution_count": 100,
   "metadata": {},
   "outputs": [
    {
     "name": "stdout",
     "output_type": "stream",
     "text": [
      "Odpowiedź z serwera: {'code': 0, 'msg': 'Decide whether the task should be added to the ToDo list or to the calendar (if time is provided) and return the corresponding JSON', 'hint': 'always use YYYY-MM-DD format for dates', 'example for ToDo': 'Przypomnij mi, że mam kupić mleko = {\"tool\":\"ToDo\",\"desc\":\"Kup mleko\" }', 'example for Calendar': 'Jutro mam spotkanie z Marianem = {\"tool\":\"Calendar\",\"desc\":\"Spotkanie z Marianem\",\"date\":\"2024-04-10\"}', 'question': 'Pojutrze mam wizytę u dentysty'}\n"
     ]
    }
   ],
   "source": [
    "# pobranie danych do zadania\n",
    "\n",
    "response = get_task(token)\n",
    "if response:\n",
    "    print(\"Odpowiedź z serwera:\", response)\n",
    "else:\n",
    "    print(\"Wystąpił błąd podczas wysyłania zapytania.\")"
   ]
  },
  {
   "cell_type": "code",
   "execution_count": 105,
   "metadata": {},
   "outputs": [],
   "source": [
    "type_schema = {\n",
    "    \"name\": \"decide_tool\",\n",
    "    \"description\": \"Zdecyduj, czy zadanie powinno zostać dodane do listy ToDo, czy do kalendarza (jeśli podano czas) i zwróć odpowiedni JSON\",\n",
    "    \"parameters\": {\n",
    "        \"type\": \"object\",\n",
    "        \"properties\": {\n",
    "            \"ToDo\": {\n",
    "                \"type\": \"string\",\n",
    "                \"desc\": \"zadanie do zrobienia bez zaplanowanego terminu\",\n",
    "            },\n",
    "            \"Calendar\": {\n",
    "                \"type\": \"string\",\n",
    "                \"desc\": \"zadanie do wykonania w konkretnym terminie\",\n",
    "            }\n",
    "        }\n",
    "    },\n",
    "    \"required\": [\"name\"]\n",
    "}"
   ]
  },
  {
   "cell_type": "code",
   "execution_count": 106,
   "metadata": {},
   "outputs": [],
   "source": [
    "def parse_function_call(result: BaseMessage):\n",
    "    if result.additional_kwargs and \"function_call\" in result.additional_kwargs:\n",
    "        return {\n",
    "            \"name\": result.additional_kwargs[\"function_call\"][\"name\"],\n",
    "            \"args\": json.loads(result.additional_kwargs[\"function_call\"][\"arguments\"]),\n",
    "        }\n",
    "    return None"
   ]
  },
  {
   "cell_type": "code",
   "execution_count": 107,
   "metadata": {},
   "outputs": [
    {
     "name": "stdout",
     "output_type": "stream",
     "text": [
      "{'name': 'decide_tool', 'args': {'Calendar': 'Pojutrze wizyta u dentysty'}}\n"
     ]
    }
   ],
   "source": [
    "model = ChatOpenAI(\n",
    "    model = \"gpt-4-0613\",\n",
    ").bind(functions = [type_schema])\n",
    "\n",
    "result = model.invoke([\n",
    "    HumanMessage(f\"{response['question']}\"),\n",
    "])\n",
    "\n",
    "action = parse_function_call(result)\n",
    "print(action)"
   ]
  },
  {
   "cell_type": "code",
   "execution_count": 108,
   "metadata": {},
   "outputs": [],
   "source": [
    "chat = ChatOpenAI(\n",
    "    model = 'gpt-4'\n",
    ")\n",
    "\n",
    "if 'Calendar' in action['args']:\n",
    "\n",
    "    calendar = chat.invoke([\n",
    "        SystemMessage(\"\"\"Dziś jest 2024-04-09. Zwróć datę, o której mowa w wiadomości i zapisz wiadomość w formie krótkiego zadania do zapisania w kalendarzu. \n",
    "                      ###\n",
    "                      user: Jutro mam spotkanie z Marianem\n",
    "                      AI: {\"tool\":\"Calendar\",\"desc\":\"Spotkanie z Marianem\",\"date\":\"2024-04-10\"}\n",
    "                      ###\n",
    "                      \"\"\"),\n",
    "        HumanMessage(f\"Wiadomość: {response['question']}\")\n",
    "    ])\n",
    "\n",
    "    answer = calendar.content\n",
    "\n",
    "elif 'ToDo' in action['args']:\n",
    "    todo = chat.invoke([\n",
    "        SystemMessage(\"\"\"Zapisz wiadomość w formie krótkiego zadania do zapisania w liście To Do. \n",
    "                      ###\n",
    "                      user: Przypomnij mi, że mam kupić mleko \n",
    "                      AI: {\"tool\":\"ToDo\",\"desc\":\"Kup mleko\"}\n",
    "                      ###\n",
    "                      \"\"\"),\n",
    "        HumanMessage(f\"Wiadomość: {response['question']}\")\n",
    "    ])\n",
    "\n",
    "    answer = todo.content\n"
   ]
  },
  {
   "cell_type": "code",
   "execution_count": 109,
   "metadata": {},
   "outputs": [],
   "source": [
    "answer_json = json.loads(answer)"
   ]
  },
  {
   "cell_type": "code",
   "execution_count": 110,
   "metadata": {},
   "outputs": [
    {
     "name": "stdout",
     "output_type": "stream",
     "text": [
      "Odpowiedź z serwera: {'code': 0, 'msg': 'OK', 'note': 'CORRECT'}\n"
     ]
    }
   ],
   "source": [
    "# wysłanie odpowiedzi\n",
    "\n",
    "response_answ = send_answer(token, answer_json)\n",
    "if response_answ:\n",
    "    print(\"Odpowiedź z serwera:\", response_answ)\n",
    "else:\n",
    "    print(\"Wystąpił błąd podczas wysyłania odpowiedzi.\")"
   ]
  },
  {
   "cell_type": "code",
   "execution_count": 111,
   "metadata": {},
   "outputs": [
    {
     "data": {
      "text/plain": [
       "'Pojutrze mam wizytę u dentysty'"
      ]
     },
     "execution_count": 111,
     "metadata": {},
     "output_type": "execute_result"
    }
   ],
   "source": [
    "response['question']"
   ]
  },
  {
   "cell_type": "code",
   "execution_count": 114,
   "metadata": {},
   "outputs": [
    {
     "data": {
      "text/plain": [
       "{'tool': 'Calendar', 'desc': 'Wizyta u dentysty', 'date': '2024-04-11'}"
      ]
     },
     "execution_count": 114,
     "metadata": {},
     "output_type": "execute_result"
    }
   ],
   "source": [
    "answer_json"
   ]
  }
 ],
 "metadata": {
  "kernelspec": {
   "display_name": "base",
   "language": "python",
   "name": "python3"
  },
  "language_info": {
   "codemirror_mode": {
    "name": "ipython",
    "version": 3
   },
   "file_extension": ".py",
   "mimetype": "text/x-python",
   "name": "python",
   "nbconvert_exporter": "python",
   "pygments_lexer": "ipython3",
   "version": "3.9.16"
  }
 },
 "nbformat": 4,
 "nbformat_minor": 2
}
