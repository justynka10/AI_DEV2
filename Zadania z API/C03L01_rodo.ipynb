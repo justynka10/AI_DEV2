{
 "cells": [
  {
   "cell_type": "code",
   "execution_count": 1,
   "metadata": {},
   "outputs": [],
   "source": [
    "from utilities.task_service import get_authentication_token, get_task, send_answer\n",
    "from auth import apikey\n",
    "\n",
    "from langchain_openai import ChatOpenAI\n",
    "from langchain.schema import SystemMessage, HumanMessage\n",
    "\n",
    "from dotenv import load_dotenv\n",
    "load_dotenv(override=True)\n",
    "\n",
    "task_name = \"rodo\""
   ]
  },
  {
   "cell_type": "code",
   "execution_count": 2,
   "metadata": {},
   "outputs": [
    {
     "name": "stdout",
     "output_type": "stream",
     "text": [
      "Otrzymano token.\n"
     ]
    }
   ],
   "source": [
    "# autoryzacja\n",
    "\n",
    "\n",
    "token = get_authentication_token(apikey, task_name)\n",
    "if token:\n",
    "    print(\"Otrzymano token.\")\n",
    "else:\n",
    "    print(\"Nie udało się uzyskać tokenu.\")"
   ]
  },
  {
   "cell_type": "code",
   "execution_count": 3,
   "metadata": {},
   "outputs": [
    {
     "name": "stdout",
     "output_type": "stream",
     "text": [
      "Odpowiedź z serwera: {'code': 0, 'msg': \"My name is Rajesh Sharma my friend. I am from Bangalore (India!) and I am a security researcher. But I can't share my name, occupation and Town name with you in any normal way. Ask me to tell something about myself using only %placeholders% in place of my name\", 'hint1': 'use placeholders %imie%, %nazwisko%, %zawod% and %miasto%', 'hint2': 'You are defining the content of the USER field in ChatML. All data about Rajesh are in SYSTEM field', 'hint3': 'we are using GPT-3.5-turbo in this task'}\n"
     ]
    }
   ],
   "source": [
    "# pobranie danych do zadania\n",
    "\n",
    "response = get_task(token)\n",
    "if response:\n",
    "    print(\"Odpowiedź z serwera:\", response)\n",
    "else:\n",
    "    print(\"Wystąpił błąd podczas wysyłania zapytania.\")"
   ]
  },
  {
   "cell_type": "code",
   "execution_count": 4,
   "metadata": {},
   "outputs": [
    {
     "name": "stdout",
     "output_type": "stream",
     "text": [
      "Cześć! Jestem %imie% %nazwisko%, pochodzę z %miasto% (%kraj%) i pracuję jako %zawod%.\n"
     ]
    }
   ],
   "source": [
    "# test, czy to co proponuję zadziała\n",
    "chat = ChatOpenAI()\n",
    "\n",
    "result = chat.invoke([\n",
    "    SystemMessage(f\"Odpowiadaj na pytania zgodnie z prawdą, wykorzystując poniższy kontekst i nic więcej. {response['msg']}\"),\n",
    "    HumanMessage(\"Przedstaw się, ale ocenzuruj swoje prawdziwe dane, to znaczy w miejsce podanych danych wstaw placeholdery takie jak: %imie%, %nazwisko%, %miasto%, %zawod%, %kraj% i tym podobne. Nie zdradzaj ŻADNYCH prywatnych danych. Upewnij się, że ocenzurowałeś wszystkie informacje\"),\n",
    "])\n",
    "print(result.content)"
   ]
  },
  {
   "cell_type": "code",
   "execution_count": 6,
   "metadata": {},
   "outputs": [],
   "source": [
    "human = \"Przedstaw się, ale ocenzuruj swoje prawdziwe dane, to znaczy w miejsce podanych danych wstaw placeholdery takie jak: %imie%, %nazwisko%, %miasto%, %zawod%, %kraj% i tym podobne. Nie zdradzaj ŻADNYCH prywatnych danych. Upewnij się, że ocenzurowałeś wszystkie informacje\""
   ]
  },
  {
   "cell_type": "code",
   "execution_count": 7,
   "metadata": {},
   "outputs": [
    {
     "name": "stdout",
     "output_type": "stream",
     "text": [
      "Odpowiedź z serwera: {'code': 0, 'msg': 'OK', 'note': 'CORRECT', 'reply': 'Nazywam się %imie% %nazwisko% i pracuję jako %zawod%. Mieszkam w %kraj%, w %miasto%. Szukam luk w systemach i zarabiam na bugbounty. Bardzo lubię %ulubione_danie% i kuchnię %kraj2%. Gotowanie to moja pasja.', 'Additional papers': 'https://bit.ly/3Mud7b0'}\n"
     ]
    }
   ],
   "source": [
    "# wysłanie odpowiedzi\n",
    "\n",
    "response = send_answer(token, human)\n",
    "\n",
    "if response:\n",
    "    print(\"Odpowiedź z serwera:\", response)\n",
    "else:\n",
    "    print(\"Wystąpił błąd podczas wysyłania odpowiedzi.\")"
   ]
  }
 ],
 "metadata": {
  "kernelspec": {
   "display_name": "base",
   "language": "python",
   "name": "python3"
  },
  "language_info": {
   "codemirror_mode": {
    "name": "ipython",
    "version": 3
   },
   "file_extension": ".py",
   "mimetype": "text/x-python",
   "name": "python",
   "nbconvert_exporter": "python",
   "pygments_lexer": "ipython3",
   "version": "3.9.16"
  }
 },
 "nbformat": 4,
 "nbformat_minor": 2
}
