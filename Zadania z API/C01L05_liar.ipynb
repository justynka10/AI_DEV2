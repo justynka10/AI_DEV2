{
 "cells": [
  {
   "cell_type": "code",
   "execution_count": 8,
   "metadata": {},
   "outputs": [],
   "source": [
    "from utilities.task_service import get_authentication_token, get_task, send_answer\n",
    "from auth import apikey\n",
    "import requests\n",
    "from langchain.chains import LLMChain\n",
    "from langchain.prompts import PromptTemplate\n",
    "from langchain_openai import ChatOpenAI\n",
    "\n",
    "from dotenv import load_dotenv\n",
    "load_dotenv(override=True)\n",
    "\n",
    "task_name = \"liar\""
   ]
  },
  {
   "cell_type": "code",
   "execution_count": 9,
   "metadata": {},
   "outputs": [
    {
     "name": "stdout",
     "output_type": "stream",
     "text": [
      "Otrzymano token.\n"
     ]
    }
   ],
   "source": [
    "# autoryzacja\n",
    "\n",
    "token = get_authentication_token(apikey, task_name)\n",
    "if token:\n",
    "    print(\"Otrzymano token.\")\n",
    "else:\n",
    "    print(\"Nie udało się uzyskać tokenu.\")"
   ]
  },
  {
   "cell_type": "code",
   "execution_count": 10,
   "metadata": {},
   "outputs": [
    {
     "name": "stdout",
     "output_type": "stream",
     "text": [
      "Odpowiedź z serwera: {'code': 0, 'msg': 'send me any question in english, and I will try to answer it in max 150 tokens', 'hint1': \"please send your question in 'question' field to /task/ endpoint (simple form, not JSON)\", 'hint2': \"sometimes I don't tell the truth\", 'hint3': \"Send to /answer/ info if I'm telling the truth. Just value: YES/NO\"}\n"
     ]
    }
   ],
   "source": [
    "# pobranie danych do zadania\n",
    "\n",
    "response = get_task(token)\n",
    "if response:\n",
    "    print(\"Odpowiedź z serwera:\", response)\n",
    "else:\n",
    "    print(\"Wystąpił błąd podczas wysyłania zapytania.\")"
   ]
  },
  {
   "cell_type": "code",
   "execution_count": 12,
   "metadata": {},
   "outputs": [
    {
     "name": "stdout",
     "output_type": "stream",
     "text": [
      "{'code': 0, 'msg': 'This is my answer', 'answer': 'The iconic \"Welcome to Jurassic Park\" scene was filmed on the Hawaiian island of Kauai.'}\n",
      "WTF is the answer\n"
     ]
    }
   ],
   "source": [
    "question = \"What is capital of Poland?\"\n",
    "data = {\"question\": question}\n",
    "url = f\"https://tasks.aidevs.pl/task/{token}\"\n",
    "\n",
    "chat = ChatOpenAI(\n",
    "    model='gpt-4'\n",
    ")\n",
    "\n",
    "try:\n",
    "    response = requests.post(url, data=data)\n",
    "    response.raise_for_status()  # Sprawdza, czy odpowiedź jest sukcesem (status kod 2xx)\n",
    "    print(response.json())\n",
    "\n",
    "except requests.exceptions.RequestException as e:\n",
    "    print(f\"Request error: {e}\")\n",
    "\n",
    "guard_prompt = f\"Return 'YES' or 'NO' if the answer: '{response.json()['answer']}' is to the question: '{question}'. Answer:\"\n",
    "prompt_template = PromptTemplate.from_template(guard_prompt) # a tutaj było to chyba koniecznie bo bez tego przy tworzeniu obiektu LLMChain był błąd\n",
    "\n",
    "chain = LLMChain(llm=chat, prompt=prompt_template)\n",
    "\n",
    "# Wywołaj chain z treścią odpowiedzi ?\n",
    "result = chain.run(response=response.json()['answer'])\n",
    "\n",
    "if result == 'YES':\n",
    "    print(\"Answer on topic\")\n",
    "else:\n",
    "    print(\"WTF is the answer\")"
   ]
  },
  {
   "cell_type": "code",
   "execution_count": 13,
   "metadata": {},
   "outputs": [
    {
     "name": "stdout",
     "output_type": "stream",
     "text": [
      "Odpowiedź z serwera: {'code': 0, 'msg': 'OK', 'note': 'CORRECT'}\n"
     ]
    }
   ],
   "source": [
    "# wysłanie odpowiedzi\n",
    "\n",
    "response = send_answer(token, result)\n",
    "if response:\n",
    "    print(\"Odpowiedź z serwera:\", response)\n",
    "else:\n",
    "    print(\"Wystąpił błąd podczas wysyłania odpowiedzi.\")"
   ]
  }
 ],
 "metadata": {
  "kernelspec": {
   "display_name": "base",
   "language": "python",
   "name": "python3"
  },
  "language_info": {
   "codemirror_mode": {
    "name": "ipython",
    "version": 3
   },
   "file_extension": ".py",
   "mimetype": "text/x-python",
   "name": "python",
   "nbconvert_exporter": "python",
   "pygments_lexer": "ipython3",
   "version": "3.9.16"
  }
 },
 "nbformat": 4,
 "nbformat_minor": 2
}
