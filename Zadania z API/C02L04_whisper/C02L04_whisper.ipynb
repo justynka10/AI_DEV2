{
 "cells": [
  {
   "cell_type": "code",
   "execution_count": 4,
   "metadata": {},
   "outputs": [],
   "source": [
    "import sys\n",
    "sys.path.append('../')\n",
    "from utilities.task_service import get_authentication_token, get_task, send_answer\n",
    "from auth import apikey\n",
    "import re \n",
    "import requests\n",
    "\n",
    "from openai import OpenAI\n",
    "\n",
    "from dotenv import load_dotenv\n",
    "load_dotenv(override=True)\n",
    "\n",
    "task_name = \"whisper\""
   ]
  },
  {
   "cell_type": "code",
   "execution_count": 5,
   "metadata": {},
   "outputs": [
    {
     "name": "stdout",
     "output_type": "stream",
     "text": [
      "Otrzymano token.\n"
     ]
    }
   ],
   "source": [
    "# autoryzacja\n",
    "\n",
    "token = get_authentication_token(apikey, task_name)\n",
    "if token:\n",
    "    print(\"Otrzymano token.\")\n",
    "else:\n",
    "    print(\"Nie udało się uzyskać tokenu.\")"
   ]
  },
  {
   "cell_type": "code",
   "execution_count": 6,
   "metadata": {},
   "outputs": [
    {
     "name": "stdout",
     "output_type": "stream",
     "text": [
      "Odpowiedź z serwera: {'code': 0, 'msg': 'please return transcription of this file: https://tasks.aidevs.pl/data/mateusz.mp3', 'hint': 'use WHISPER model - https://platform.openai.com/docs/guides/speech-to-text'}\n"
     ]
    }
   ],
   "source": [
    "# pobranie danych do zadania\n",
    "\n",
    "response = get_task(token)\n",
    "if response:\n",
    "    print(\"Odpowiedź z serwera:\", response)\n",
    "else:\n",
    "    print(\"Wystąpił błąd podczas wysyłania zapytania.\")"
   ]
  },
  {
   "cell_type": "code",
   "execution_count": 7,
   "metadata": {},
   "outputs": [
    {
     "name": "stdout",
     "output_type": "stream",
     "text": [
      "Wyodrębniony link: https://tasks.aidevs.pl/data/mateusz.mp3\n",
      "MP3 file downloaded successfully to task-audio.mp3\n"
     ]
    }
   ],
   "source": [
    "# Wyodrębnienie linku do nagrania za pomocą wyrażenia regularnego\n",
    "link_match = re.search(r\"https?://[^\\s]+\", response['msg'])\n",
    "if link_match:\n",
    "    url = link_match.group()\n",
    "    print(f\"Wyodrębniony link: {url}\")\n",
    "else:\n",
    "    print(\"W tekście nie znaleziono linku.\")\n",
    "\n",
    "\n",
    "# pobranie pliku (pewnie można to zrobić bez pobierania?)\n",
    "def download_mp3(url, output_path):\n",
    "    try:\n",
    "        response = requests.get(url)\n",
    "        if response.status_code == 200:\n",
    "            with open(output_path, 'wb') as f:\n",
    "                f.write(response.content)\n",
    "            print(f\"MP3 file downloaded successfully to {output_path}\")\n",
    "        else:\n",
    "            print(f\"Failed to download MP3 file. Status code: {response.status_code}\")\n",
    "    except Exception as e:\n",
    "        print(f\"Error occurred while downloading MP3 file: {e}\")\n",
    "\n",
    "output_file = \"task-audio.mp3\"\n",
    "download_mp3(url, output_file)"
   ]
  },
  {
   "cell_type": "code",
   "execution_count": 8,
   "metadata": {},
   "outputs": [
    {
     "name": "stdout",
     "output_type": "stream",
     "text": [
      "Cześć! Kiedy ostatnio korzystaliście z sztucznej inteligencji, czy zastanawialiście się nad tym, skąd czerpie ona swoją wiedzę? No pewnie, że tak, inaczej nie byłoby was tutaj na szkoleniu. Ale czy przemyśleliście możliwość dostosowania tej wiedzy do waszych własnych, indywidualnych potrzeb?\n"
     ]
    }
   ],
   "source": [
    "client = OpenAI()\n",
    "\n",
    "audio_file= open(\"task-audio.mp3\", \"rb\")\n",
    "transcription = client.audio.transcriptions.create(\n",
    "  model=\"whisper-1\", \n",
    "  file=audio_file\n",
    ")\n",
    "print(transcription.text)"
   ]
  },
  {
   "cell_type": "code",
   "execution_count": 9,
   "metadata": {},
   "outputs": [
    {
     "name": "stdout",
     "output_type": "stream",
     "text": [
      "Odpowiedź z serwera: {'code': 0, 'msg': 'OK', 'note': 'CORRECT'}\n"
     ]
    }
   ],
   "source": [
    "# wysłanie odpowiedzi\n",
    "\n",
    "response = send_answer(token, transcription.text)\n",
    "if response:\n",
    "    print(\"Odpowiedź z serwera:\", response)\n",
    "else:\n",
    "    print(\"Wystąpił błąd podczas wysyłania odpowiedzi.\")"
   ]
  }
 ],
 "metadata": {
  "kernelspec": {
   "display_name": "base",
   "language": "python",
   "name": "python3"
  },
  "language_info": {
   "codemirror_mode": {
    "name": "ipython",
    "version": 3
   },
   "file_extension": ".py",
   "mimetype": "text/x-python",
   "name": "python",
   "nbconvert_exporter": "python",
   "pygments_lexer": "ipython3",
   "version": "3.9.16"
  }
 },
 "nbformat": 4,
 "nbformat_minor": 2
}
