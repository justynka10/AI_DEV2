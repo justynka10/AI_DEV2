{
 "cells": [
  {
   "cell_type": "code",
   "execution_count": 126,
   "metadata": {},
   "outputs": [],
   "source": [
    "from utilities.task_service import get_authentication_token, get_task, send_answer\n",
    "from auth import apikey\n",
    "\n",
    "from langchain_openai import ChatOpenAI\n",
    "from langchain.schema import SystemMessage, HumanMessage\n",
    "\n",
    "from dotenv import load_dotenv\n",
    "load_dotenv(override=True)\n",
    "\n",
    "task_name = \"whoami\""
   ]
  },
  {
   "cell_type": "code",
   "execution_count": 127,
   "metadata": {},
   "outputs": [
    {
     "name": "stdout",
     "output_type": "stream",
     "text": [
      "Otrzymano token.\n"
     ]
    }
   ],
   "source": [
    "# autoryzacja\n",
    "\n",
    "token = get_authentication_token(apikey, task_name)\n",
    "if token:\n",
    "    print(\"Otrzymano token.\")\n",
    "else:\n",
    "    print(\"Nie udało się uzyskać tokenu.\")"
   ]
  },
  {
   "cell_type": "code",
   "execution_count": 128,
   "metadata": {},
   "outputs": [],
   "source": [
    "chat = ChatOpenAI(\n",
    "    model='gpt-4'\n",
    ")\n",
    "\n",
    "hints = []\n",
    "\n",
    "def try_to_guess(hints):\n",
    "\n",
    "    new_hint = get_task(token)['hint']\n",
    "\n",
    "    result = chat.invoke([\n",
    "        SystemMessage(f\"\"\"We are playing \"Guess Who I Am.\" The user is some character and gives you clues one by one, by which you can guess who it is about. \n",
    "                    If a given set of clues is enough and you know who the user is, then tell who they are. Just return the name of that person.\n",
    "                    If the clues are not enough, then don't guess, but ask for another one by returning 0.\n",
    "                    There are negative points for a wrong answer, so if you give an answer, make sure it is definitely correct.\n",
    "                    \n",
    "                    ### Previous hints:{hints}###\"\"\"),\n",
    "        HumanMessage(f\"New hint: {new_hint}\"),\n",
    "    ])\n",
    "\n",
    "    return result.content, new_hint"
   ]
  },
  {
   "cell_type": "code",
   "execution_count": 129,
   "metadata": {},
   "outputs": [
    {
     "name": "stdout",
     "output_type": "stream",
     "text": [
      "Odpowiedź z serwera: {'code': 0, 'msg': 'OK', 'note': 'CORRECT'}\n"
     ]
    }
   ],
   "source": [
    "if_guessed = 0\n",
    "\n",
    "while(if_guessed == 0):\n",
    "    answer, hint = try_to_guess(hints)\n",
    "\n",
    "    if answer == '0':\n",
    "        hints.append(hint)\n",
    "    else:\n",
    "        # wyślij odpowiedź\n",
    "        response = send_answer(token, answer)\n",
    "\n",
    "        if response:\n",
    "            print(\"Odpowiedź z serwera:\", response)\n",
    "        else:\n",
    "            print(\"Wystąpił błąd podczas wysyłania odpowiedzi.\")\n",
    "        hints.append(hint)\n",
    "        if_guessed = 1    "
   ]
  },
  {
   "cell_type": "markdown",
   "metadata": {},
   "source": [
    "Sprawdźmy o kogo chodziło i po czym model to zgadł:"
   ]
  },
  {
   "cell_type": "code",
   "execution_count": 130,
   "metadata": {},
   "outputs": [
    {
     "name": "stdout",
     "output_type": "stream",
     "text": [
      "['W momencie śmierci, jego majątek był szacowany na około 10,2 miliarda dolarów', 'często chodził boso po biurze']\n"
     ]
    }
   ],
   "source": [
    "print(hints)"
   ]
  },
  {
   "cell_type": "code",
   "execution_count": 131,
   "metadata": {},
   "outputs": [
    {
     "name": "stdout",
     "output_type": "stream",
     "text": [
      "Steve Jobs\n"
     ]
    }
   ],
   "source": [
    "print(answer)"
   ]
  },
  {
   "cell_type": "markdown",
   "metadata": {},
   "source": [
    "GPT-4 zgadywał to po 2-3 wskazówkach, natomiast GPT-3.5 po 3-4 albo się mylił po wcześniejszych, więc dla 3.5 trzeba by dać dodatkowego prompta weryfikacyjnego."
   ]
  }
 ],
 "metadata": {
  "kernelspec": {
   "display_name": "base",
   "language": "python",
   "name": "python3"
  },
  "language_info": {
   "codemirror_mode": {
    "name": "ipython",
    "version": 3
   },
   "file_extension": ".py",
   "mimetype": "text/x-python",
   "name": "python",
   "nbconvert_exporter": "python",
   "pygments_lexer": "ipython3",
   "version": "3.9.16"
  }
 },
 "nbformat": 4,
 "nbformat_minor": 2
}
