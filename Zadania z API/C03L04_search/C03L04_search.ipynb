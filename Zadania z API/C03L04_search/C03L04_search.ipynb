{
 "cells": [
  {
   "cell_type": "code",
   "execution_count": 86,
   "metadata": {},
   "outputs": [],
   "source": [
    "import sys\n",
    "sys.path.append('../')\n",
    "from utilities.task_service import get_authentication_token, get_task, send_answer\n",
    "from auth import apikey\n",
    "import requests\n",
    "import json\n",
    "\n",
    "from langchain_openai import ChatOpenAI\n",
    "from langchain.schema import SystemMessage, HumanMessage\n",
    "from langchain_openai import OpenAIEmbeddings\n",
    "from uuid import uuid4\n",
    "from qdrant_client import QdrantClient\n",
    "from langchain_community.document_loaders import TextLoader\n",
    "from langchain.docstore.document import Document\n",
    "\n",
    "from dotenv import load_dotenv\n",
    "load_dotenv(override=True)\n",
    "\n",
    "task_name = \"search\""
   ]
  },
  {
   "cell_type": "code",
   "execution_count": 89,
   "metadata": {},
   "outputs": [],
   "source": [
    "# pobranie linków z urla\n",
    "url = f\"https://unknow.news/archiwum_aidevs.json\"\n",
    "\n",
    "try:\n",
    "    response_links = requests.post(url)\n",
    "    response_links.raise_for_status()  # Sprawdzenie, czy odpowiedź jest sukcesem (status kod 2xx)\n",
    "    links = response_links.json()\n",
    "except requests.exceptions.RequestException as e:\n",
    "    print(f\"Request error: {e}\")\n",
    "\n",
    "with open(\"links.json\", \"w\", encoding='utf8') as file:\n",
    "    json.dump(links, file, indent=1)"
   ]
  },
  {
   "cell_type": "code",
   "execution_count": 92,
   "metadata": {},
   "outputs": [
    {
     "name": "stdout",
     "output_type": "stream",
     "text": [
      "collections=[CollectionDescription(name='ai_devs')]\n"
     ]
    }
   ],
   "source": [
    "# połączenie z Qdrant\n",
    "#MEMORY_PATH = \"links.json\"\n",
    "COLLECTION_NAME = \"search_task\"\n",
    "\n",
    "qdrant = QdrantClient()\n",
    "embeddings = OpenAIEmbeddings()\n",
    "result = qdrant.get_collections()\n",
    "indexed = next((collection for collection in result.collections if collection.name == COLLECTION_NAME), None)\n",
    "print(result)\n",
    "\n",
    "# stworzenie kolekcji jeśli nie istnieje\n",
    "if not indexed:\n",
    "    qdrant.recreate_collection(\n",
    "        collection_name=COLLECTION_NAME,\n",
    "        vectors_config={\"size\": 1536, \"distance\": \"Cosine\", \"on_disk\": True},\n",
    "    )\n",
    "\n",
    "collection_info = qdrant.get_collection(collection_name=COLLECTION_NAME)"
   ]
  },
  {
   "cell_type": "code",
   "execution_count": 93,
   "metadata": {},
   "outputs": [],
   "source": [
    "# jeśli nie ma dokumentów w kolekcji\n",
    "if not collection_info.points_count:\n",
    "    # dodanie id do każdego linku\n",
    "    for link in links:\n",
    "        link[\"uuid\"] = str(uuid4())\n",
    "        link['source'] = COLLECTION_NAME\n",
    "\n",
    "    # generowanie embeddingów\n",
    "    points = []\n",
    "    for link in links:\n",
    "        embedding = embeddings.embed_documents([link['info']])[0]\n",
    "        points.append(\n",
    "            {\n",
    "                \"id\": link['uuid'],\n",
    "                \"payload\": link,\n",
    "                \"vector\": embedding,\n",
    "            }\n",
    "        )\n",
    "\n",
    "    # index\n",
    "    qdrant.upsert(\n",
    "        collection_name=COLLECTION_NAME,\n",
    "        wait=True,\n",
    "        points=points,\n",
    "    )\n",
    "\n",
    "# collection_info = qdrant.get_collection(collection_name=COLLECTION_NAME)\n",
    "# json.loads(collection_info.json())"
   ]
  },
  {
   "cell_type": "code",
   "execution_count": 108,
   "metadata": {},
   "outputs": [
    {
     "name": "stdout",
     "output_type": "stream",
     "text": [
      "Otrzymano token.\n"
     ]
    }
   ],
   "source": [
    "# autoryzacja\n",
    "\n",
    "token = get_authentication_token(apikey, task_name)\n",
    "if token:\n",
    "    print(\"Otrzymano token.\")\n",
    "else:\n",
    "    print(\"Nie udało się uzyskać tokenu.\")"
   ]
  },
  {
   "cell_type": "code",
   "execution_count": 109,
   "metadata": {},
   "outputs": [
    {
     "name": "stdout",
     "output_type": "stream",
     "text": [
      "Odpowiedź z serwera: {'code': 0, 'msg': 'Index all data from provided URL into vecto store and provide answer to my question - https://unknow.news/archiwum_aidevs.json', 'question': 'Co różni pseudonimizację od anonimizowania danych?'}\n"
     ]
    }
   ],
   "source": [
    "# pobranie danych do zadania\n",
    "\n",
    "response = get_task(token)\n",
    "if response:\n",
    "    print(\"Odpowiedź z serwera:\", response)\n",
    "else:\n",
    "    print(\"Wystąpił błąd podczas wysyłania zapytania.\")"
   ]
  },
  {
   "cell_type": "code",
   "execution_count": 110,
   "metadata": {},
   "outputs": [
    {
     "name": "stdout",
     "output_type": "stream",
     "text": [
      "ID:  0cc7391b-ba02-41f4-adc4-0d48f2b696b8\n",
      "Score:  0.8988228\n",
      "{\n",
      "    \"date\": \"2023-10-06\",\n",
      "    \"info\": \"INFO: Czy patrząc na dane, można jednoznacznie stwierdzić, że są anonimowe? Czy np. haszowanie numerów telefonu to skuteczna pseudonimizacja? Adwokatka i kryptolog podejmują próbę pogodzenia prawnych i matematycznych definicji pojęć \\\"anonimizacja\\\" i \\\"pseudonimizacja\\\".\",\n",
      "    \"source\": \"search_task\",\n",
      "    \"title\": \"Czym się różni pseudonimizacja od anonimizacji? (film, 46 minut)\",\n",
      "    \"url\": \"https://www.internet-czas-dzialac.pl/pseudonimizacja-a-anonimizacja/\",\n",
      "    \"uuid\": \"0cc7391b-ba02-41f4-adc4-0d48f2b696b8\"\n",
      "}\n"
     ]
    }
   ],
   "source": [
    "# przeszukiwanie dokumentów w wybranej kolekcji powiązanych z pytaniem\n",
    "query = response['question']\n",
    "query_embedding = embeddings.embed_query(query)\n",
    "\n",
    "search_result = qdrant.search(\n",
    "    collection_name=COLLECTION_NAME,\n",
    "    query_vector=query_embedding,\n",
    "    limit=1,\n",
    "    query_filter={\"must\": [{\"key\": \"source\", \"match\": {\"value\": COLLECTION_NAME}}]},\n",
    ")\n",
    "\n",
    "for result in search_result:\n",
    "    print(\"ID: \", result.id)\n",
    "    print(\"Score: \", result.score)\n",
    "    print(json.dumps(result.payload,indent=4, ensure_ascii=False))\n",
    "    answer = result.payload['url']"
   ]
  },
  {
   "cell_type": "code",
   "execution_count": 111,
   "metadata": {},
   "outputs": [
    {
     "name": "stdout",
     "output_type": "stream",
     "text": [
      "Odpowiedź z serwera: {'code': 0, 'msg': 'OK', 'note': 'CORRECT'}\n"
     ]
    }
   ],
   "source": [
    "# wysłanie odpowiedzi\n",
    "\n",
    "response = send_answer(token, answer)\n",
    "\n",
    "if response:\n",
    "    print(\"Odpowiedź z serwera:\", response)\n",
    "else:\n",
    "    print(\"Wystąpił błąd podczas wysyłania odpowiedzi.\")"
   ]
  }
 ],
 "metadata": {
  "kernelspec": {
   "display_name": "Python 3",
   "language": "python",
   "name": "python3"
  },
  "language_info": {
   "codemirror_mode": {
    "name": "ipython",
    "version": 3
   },
   "file_extension": ".py",
   "mimetype": "text/x-python",
   "name": "python",
   "nbconvert_exporter": "python",
   "pygments_lexer": "ipython3",
   "version": "3.10.11"
  }
 },
 "nbformat": 4,
 "nbformat_minor": 2
}
