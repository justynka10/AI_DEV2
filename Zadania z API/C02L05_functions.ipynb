{
 "cells": [
  {
   "cell_type": "code",
   "execution_count": 13,
   "metadata": {},
   "outputs": [],
   "source": [
    "from utilities.task_service import get_authentication_token, get_task, send_answer\n",
    "from auth import apikey\n",
    "import json\n",
    "\n",
    "from langchain_openai import ChatOpenAI\n",
    "from langchain.schema import SystemMessage, HumanMessage\n",
    "\n",
    "from dotenv import load_dotenv\n",
    "load_dotenv(override=True)\n",
    "\n",
    "task_name = \"functions\""
   ]
  },
  {
   "cell_type": "code",
   "execution_count": 14,
   "metadata": {},
   "outputs": [
    {
     "name": "stdout",
     "output_type": "stream",
     "text": [
      "Otrzymano token.\n"
     ]
    }
   ],
   "source": [
    "# autoryzacja\n",
    "\n",
    "token = get_authentication_token(apikey, task_name)\n",
    "if token:\n",
    "    print(\"Otrzymano token.\")\n",
    "else:\n",
    "    print(\"Nie udało się uzyskać tokenu.\")"
   ]
  },
  {
   "cell_type": "code",
   "execution_count": 15,
   "metadata": {},
   "outputs": [
    {
     "name": "stdout",
     "output_type": "stream",
     "text": [
      "Odpowiedź z serwera: {'code': 0, 'msg': 'send me definition of function named addUser that require 3 params: name (string), surname (string) and year of birth in field named \"year\" (integer). Set type of function to \"object\"', 'hint1': \"send this definition as correct JSON structure inside 'answer' field (as usual)\"}\n"
     ]
    }
   ],
   "source": [
    "# pobranie danych do zadania\n",
    "\n",
    "response = get_task(token)\n",
    "if response:\n",
    "    print(\"Odpowiedź z serwera:\", response)\n",
    "else:\n",
    "    print(\"Wystąpił błąd podczas wysyłania zapytania.\")"
   ]
  },
  {
   "cell_type": "code",
   "execution_count": 16,
   "metadata": {},
   "outputs": [
    {
     "name": "stdout",
     "output_type": "stream",
     "text": [
      "{'name': 'addUser', 'description': 'function to add a user with name, surname, and year of birth', 'parameters': {'type': 'object', 'properties': {'name': {'type': 'string', 'description': 'provide name of the user'}, 'surname': {'type': 'string', 'description': 'provide surname of the user'}, 'year': {'type': 'integer', 'description': 'provide year of birth of the user'}}}}\n"
     ]
    }
   ],
   "source": [
    "chat = ChatOpenAI()\n",
    "\n",
    "result = chat.invoke([\n",
    "    SystemMessage(\"\"\"Build JSON object based on user description. Example: ### {\"name\": \"orderPizza\",\"description\": \"select pizza in pizzeria based on pizza name\",\"parameters\": {\"type\": \"object\",\"properties\": {\"name\": {\"type\": \"string\",\"description\": \"provide name of the pizza\"}}}}###Return JSON object.\"\"\"),\n",
    "    HumanMessage(f\"{response['msg']}\")\n",
    "])\n",
    "\n",
    "addUser = json.loads(result.content)\n",
    "print(addUser)"
   ]
  },
  {
   "cell_type": "code",
   "execution_count": 17,
   "metadata": {},
   "outputs": [
    {
     "name": "stdout",
     "output_type": "stream",
     "text": [
      "Odpowiedź z serwera: {'code': 0, 'msg': 'OK', 'note': 'CORRECT'}\n"
     ]
    }
   ],
   "source": [
    "# wysłanie odpowiedzi\n",
    "\n",
    "response = send_answer(token, addUser)\n",
    "if response:\n",
    "    print(\"Odpowiedź z serwera:\", response)\n",
    "else:\n",
    "    print(\"Wystąpił błąd podczas wysyłania odpowiedzi.\")"
   ]
  }
 ],
 "metadata": {
  "kernelspec": {
   "display_name": "base",
   "language": "python",
   "name": "python3"
  },
  "language_info": {
   "codemirror_mode": {
    "name": "ipython",
    "version": 3
   },
   "file_extension": ".py",
   "mimetype": "text/x-python",
   "name": "python",
   "nbconvert_exporter": "python",
   "pygments_lexer": "ipython3",
   "version": "3.9.16"
  }
 },
 "nbformat": 4,
 "nbformat_minor": 2
}
