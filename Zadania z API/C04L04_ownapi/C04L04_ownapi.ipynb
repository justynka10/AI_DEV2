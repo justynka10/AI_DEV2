{
 "cells": [
  {
   "cell_type": "code",
   "execution_count": 3,
   "metadata": {},
   "outputs": [],
   "source": [
    "import sys\n",
    "sys.path.append('../')\n",
    "from utilities.task_service import get_authentication_token, get_task, send_answer\n",
    "from auth import apikey\n",
    "\n",
    "task_name = \"ownapi\""
   ]
  },
  {
   "cell_type": "code",
   "execution_count": 4,
   "metadata": {},
   "outputs": [
    {
     "name": "stdout",
     "output_type": "stream",
     "text": [
      "Otrzymano token.\n"
     ]
    }
   ],
   "source": [
    "# autoryzacja\n",
    "\n",
    "token = get_authentication_token(apikey, task_name)\n",
    "if token:\n",
    "    print(\"Otrzymano token.\")\n",
    "else:\n",
    "    print(\"Nie udało się uzyskać tokenu.\")"
   ]
  },
  {
   "cell_type": "code",
   "execution_count": 5,
   "metadata": {},
   "outputs": [
    {
     "name": "stdout",
     "output_type": "stream",
     "text": [
      "Odpowiedź z serwera: {'code': 0, 'msg': 'Provide me the URL to your API (HTTPS) via /answer/ endpoint. I will ask your API a general knowledge question', 'hint1': 'I will sent data as JSON, and my question would be inside \"question\" field', 'hint2': 'Probably I will ask more than one question, so be prepared for that', 'hint3': 'Please return the answer in JSON format, with \"reply\" field!'}\n"
     ]
    }
   ],
   "source": [
    "# pobranie danych do zadania\n",
    "\n",
    "response = get_task(token)\n",
    "if response:\n",
    "    print(\"Odpowiedź z serwera:\", response)\n",
    "else:\n",
    "    print(\"Wystąpił błąd podczas wysyłania zapytania.\")"
   ]
  },
  {
   "cell_type": "code",
   "execution_count": 6,
   "metadata": {},
   "outputs": [],
   "source": [
    "api_url = \"https://10d2-109-231-6-52.ngrok-free.app/\""
   ]
  },
  {
   "cell_type": "code",
   "execution_count": 7,
   "metadata": {},
   "outputs": [
    {
     "name": "stdout",
     "output_type": "stream",
     "text": [
      "Odpowiedź z serwera: {'code': 0, 'msg': 'OK', 'note': 'CORRECT'}\n"
     ]
    }
   ],
   "source": [
    "# wysłanie odpowiedzi\n",
    "\n",
    "response_answ = send_answer(token, api_url)\n",
    "if response_answ:\n",
    "    print(\"Odpowiedź z serwera:\", response_answ)\n",
    "else:\n",
    "    print(\"Wystąpił błąd podczas wysyłania odpowiedzi.\")"
   ]
  },
  {
   "cell_type": "markdown",
   "metadata": {},
   "source": [
    "Odpytania API:\n",
    "```\n",
    "Request JSON data: {'question': 'Podaj nazwę\\xa0stolicy Polski jako jedno słowo. Zwróć odpowiedź w formacie JSON w polu \"nazwa\". Nie dodawaj żadnego komentarza ani formatowania. Oczekuję jedynie formatu: {\"nazwa\":\"xxxxxxxx\"}'}\n",
    "User question is:  Podaj nazwę stolicy Polski jako jedno słowo. Zwróć odpowiedź w formacie JSON w polu \"nazwa\". Nie dodawaj żadnego komentarza ani formatowania. Oczekuję jedynie formatu: {\"nazwa\":\"xxxxxxxx\"}\n",
    "Answer to user question is {\"nazwa\":\"Warszawa\"}\n",
    "127.0.0.1 - - [16/Apr/2024 23:26:40] \"POST / HTTP/1.1\" 200 -\n",
    "Request JSON data: {'question': 'Kto był prezydentem Polski w roku 1994?'}\n",
    "User question is:  Kto był prezydentem Polski w roku 1994?\n",
    "Answer to user question is Prezydentem Polski w roku 1994 był Lech Wałęsa.\n",
    "127.0.0.1 - - [16/Apr/2024 23:26:41] \"POST / HTTP/1.1\" 200 -\n",
    "Request JSON data: {'question': 'Z jakich dwóch kolorów składa się flaga Polski? Podaj w kolejności od góry do dołu.'}\n",
    "User question is:  Z jakich dwóch kolorów składa się flaga Polski? Podaj w kolejności od góry do dołu.\n",
    "Answer to user question is Flaga Polski składa się z dwóch kolorów: białego na górze i czerwonego na dole.\n",
    "```"
   ]
  },
  {
   "cell_type": "markdown",
   "metadata": {},
   "source": []
  }
 ],
 "metadata": {
  "kernelspec": {
   "display_name": "base",
   "language": "python",
   "name": "python3"
  },
  "language_info": {
   "codemirror_mode": {
    "name": "ipython",
    "version": 3
   },
   "file_extension": ".py",
   "mimetype": "text/x-python",
   "name": "python",
   "nbconvert_exporter": "python",
   "pygments_lexer": "ipython3",
   "version": "3.9.16"
  }
 },
 "nbformat": 4,
 "nbformat_minor": 2
}
